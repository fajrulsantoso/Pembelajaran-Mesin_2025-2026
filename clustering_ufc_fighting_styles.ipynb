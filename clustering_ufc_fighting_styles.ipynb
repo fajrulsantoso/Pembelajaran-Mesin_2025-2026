{
  "cells": [
    {
      "cell_type": "markdown",
      "metadata": {
        "id": "view-in-github",
        "colab_type": "text"
      },
      "source": [
        "<a href=\"https://colab.research.google.com/github/fajrulsantoso/Pembelajaran-Mesin_2025-2026/blob/main/clustering_ufc_fighting_styles.ipynb\" target=\"_parent\"><img src=\"https://colab.research.google.com/assets/colab-badge.svg\" alt=\"Open In Colab\"/></a>"
      ]
    },
    {
      "cell_type": "code",
      "execution_count": null,
      "id": "8a4b036f",
      "metadata": {
        "execution": {
          "iopub.execute_input": "2025-09-29T06:03:49.294905Z",
          "iopub.status.busy": "2025-09-29T06:03:49.294596Z",
          "iopub.status.idle": "2025-09-29T06:03:52.732482Z",
          "shell.execute_reply": "2025-09-29T06:03:52.731719Z"
        },
        "papermill": {
          "duration": 3.447791,
          "end_time": "2025-09-29T06:03:52.734093",
          "exception": false,
          "start_time": "2025-09-29T06:03:49.286302",
          "status": "completed"
        },
        "tags": [],
        "id": "8a4b036f"
      },
      "outputs": [],
      "source": [
        "import pandas as pd\n",
        "import matplotlib.pyplot as plt\n",
        "import seaborn as sns"
      ]
    },
    {
      "cell_type": "code",
      "execution_count": null,
      "id": "17d71dcc",
      "metadata": {
        "execution": {
          "iopub.execute_input": "2025-09-29T06:03:52.750690Z",
          "iopub.status.busy": "2025-09-29T06:03:52.749785Z",
          "iopub.status.idle": "2025-09-29T06:03:52.871911Z",
          "shell.execute_reply": "2025-09-29T06:03:52.870988Z"
        },
        "papermill": {
          "duration": 0.131609,
          "end_time": "2025-09-29T06:03:52.873519",
          "exception": false,
          "start_time": "2025-09-29T06:03:52.741910",
          "status": "completed"
        },
        "tags": [],
        "colab": {
          "base_uri": "https://localhost:8080/"
        },
        "id": "17d71dcc",
        "outputId": "b6159cdc-b8a3-4704-92c7-137929030e37"
      },
      "outputs": [
        {
          "output_type": "stream",
          "name": "stdout",
          "text": [
            "Downloading from https://www.kaggle.com/api/v1/datasets/download/aminealibi/ufc-fights-fighters-and-events-dataset?dataset_version_number=8&file_name=data/Fights.csv...\n"
          ]
        },
        {
          "output_type": "stream",
          "name": "stderr",
          "text": [
            "100%|██████████| 2.10M/2.10M [00:00<00:00, 93.2MB/s]"
          ]
        },
        {
          "output_type": "stream",
          "name": "stdout",
          "text": [
            "First 5 records: "
          ]
        },
        {
          "output_type": "stream",
          "name": "stderr",
          "text": [
            "\n"
          ]
        },
        {
          "output_type": "stream",
          "name": "stdout",
          "text": [
            "             Fighter_1         Fighter_2  KD_1  KD_2  STR_1  STR_2  TD_1  \\\n",
            "0          Diego Lopes        Jean Silva     1     0     74     43     3   \n",
            "1       David Martinez          Rob Font     0     0     62     49     0   \n",
            "2          Rafa Garcia      Jared Gordon     1     0     91     65     2   \n",
            "3      Kelvin Gastelum  Dustin Stoltzfus     1     0     57     64     0   \n",
            "4  Alexander Hernandez    Diego Ferreira     1     0     30     23     0   \n",
            "\n",
            "   TD_2  SUB_1  SUB_2  ... Distance_%_1 Distance_%_2  Clinch_%_1 Clinch_%_2  \\\n",
            "0     0      0      0  ...         0.48         0.47        0.50        1.0   \n",
            "1     0      0      0  ...         0.31         0.40        0.00        0.0   \n",
            "2     1      2      0  ...         0.51         0.35        0.91        0.0   \n",
            "3     1      0      0  ...         0.48         0.41        1.00        0.8   \n",
            "4     0      0      0  ...         0.33         0.24        0.00        0.0   \n",
            "\n",
            "  Ground_%_1 Ground_%_2 Total Str._%_1 Total Str._%_2 Sig. Str._%_1  \\\n",
            "0       0.62       0.00           0.56           0.47          0.55   \n",
            "1       0.00       0.00           0.31           0.55          0.31   \n",
            "2       0.79       0.00           0.60           0.40          0.56   \n",
            "3       0.00       0.71           0.49           0.46          0.49   \n",
            "4       0.71       0.00           0.40           0.23          0.40   \n",
            "\n",
            "  Sig. Str._%_2  \n",
            "0          0.47  \n",
            "1          0.40  \n",
            "2          0.35  \n",
            "3          0.44  \n",
            "4          0.23  \n",
            "\n",
            "[5 rows x 44 columns]\n"
          ]
        }
      ],
      "source": [
        "import kagglehub\n",
        "from kagglehub import KaggleDatasetAdapter\n",
        "\n",
        "file_path = \"data/Fights.csv\"\n",
        "\n",
        "# Load the latest version\n",
        "fights_df = kagglehub.dataset_load(\n",
        "  KaggleDatasetAdapter.PANDAS,\n",
        "  \"aminealibi/ufc-fights-fighters-and-events-dataset\",\n",
        "  file_path,\n",
        ")\n",
        "\n",
        "print(\"First 5 records:\", fights_df.head())"
      ]
    },
    {
      "cell_type": "code",
      "execution_count": null,
      "id": "26268ade",
      "metadata": {
        "execution": {
          "iopub.execute_input": "2025-09-29T06:03:52.889286Z",
          "iopub.status.busy": "2025-09-29T06:03:52.888688Z",
          "iopub.status.idle": "2025-09-29T06:03:52.946463Z",
          "shell.execute_reply": "2025-09-29T06:03:52.945439Z"
        },
        "papermill": {
          "duration": 0.067503,
          "end_time": "2025-09-29T06:03:52.948248",
          "exception": false,
          "start_time": "2025-09-29T06:03:52.880745",
          "status": "completed"
        },
        "tags": [],
        "id": "26268ade"
      },
      "outputs": [],
      "source": [
        "# Metrics to aggregate for each fighter\n",
        "metrics = ['KD', 'STR', 'TD', 'SUB', 'Ctrl', 'Sig. Str. %', 'Head_%', 'Body_%', 'Leg_%',\n",
        "           'Distance_%', 'Clinch_%', 'Ground_%', 'Sub. Att', 'Rev.']\n",
        "\n",
        "# Per-fight rows for Fighter_1\n",
        "df1 = fights_df [['Fighter_1','Round'] + [f'{m}_1' for m in metrics]].rename(\n",
        "    columns={'Fighter_1':'Full Name' , **{f'{m}_1' : m for m in metrics}}\n",
        ")\n",
        "\n",
        "# Per-fight rows for Fighter_2\n",
        "df2 = fights_df[['Fighter_2','Round'] + [f'{m}_2' for m in metrics]].rename(\n",
        "    columns={'Fighter_2': 'Full Name', **{f'{m}_2': m for m in metrics}}\n",
        ")\n",
        "\n",
        "# Concating the two dataframes and averaging each fighter's statistics\n",
        "fighter_stats = (\n",
        "    pd.concat([df1, df2], ignore_index=True)\n",
        "      .groupby('Full Name')\n",
        "      .mean().round(2)\n",
        "      .sort_index()\n",
        ")"
      ]
    },
    {
      "cell_type": "code",
      "execution_count": null,
      "id": "5ea12599",
      "metadata": {
        "execution": {
          "iopub.execute_input": "2025-09-29T06:03:52.964031Z",
          "iopub.status.busy": "2025-09-29T06:03:52.963152Z",
          "iopub.status.idle": "2025-09-29T06:03:52.997203Z",
          "shell.execute_reply": "2025-09-29T06:03:52.996385Z"
        },
        "papermill": {
          "duration": 0.043642,
          "end_time": "2025-09-29T06:03:52.999002",
          "exception": false,
          "start_time": "2025-09-29T06:03:52.955360",
          "status": "completed"
        },
        "tags": [],
        "id": "5ea12599",
        "colab": {
          "base_uri": "https://localhost:8080/"
        },
        "outputId": "7a944c91-fd9b-4990-946b-652bb10460b3"
      },
      "outputs": [
        {
          "output_type": "stream",
          "name": "stdout",
          "text": [
            "Using Colab cache for faster access to the 'ufc-fights-fighters-and-events-dataset' dataset.\n"
          ]
        }
      ],
      "source": [
        "# Merging fighters with their aggregated stats\n",
        "file_path = \"data/Fighters.csv\"\n",
        "\n",
        "# Load the latest version\n",
        "fighters_df = kagglehub.dataset_load(\n",
        "  KaggleDatasetAdapter.PANDAS,\n",
        "  \"aminealibi/ufc-fights-fighters-and-events-dataset\",\n",
        "  file_path,\n",
        ")\n",
        "\n",
        "# The join should be inner to avoid missing values from both sides (I trued both left and right joins)\n",
        "fighters_df = fighters_df.join(fighter_stats, on='Full Name', how='inner')"
      ]
    },
    {
      "cell_type": "code",
      "execution_count": null,
      "id": "93403c06",
      "metadata": {
        "execution": {
          "iopub.execute_input": "2025-09-29T06:03:53.014835Z",
          "iopub.status.busy": "2025-09-29T06:03:53.014180Z",
          "iopub.status.idle": "2025-09-29T06:03:53.021474Z",
          "shell.execute_reply": "2025-09-29T06:03:53.020703Z"
        },
        "papermill": {
          "duration": 0.016556,
          "end_time": "2025-09-29T06:03:53.022831",
          "exception": false,
          "start_time": "2025-09-29T06:03:53.006275",
          "status": "completed"
        },
        "tags": [],
        "colab": {
          "base_uri": "https://localhost:8080/",
          "height": 867
        },
        "id": "93403c06",
        "outputId": "178a4176-dac3-4508-a2f0-85ab965035a5"
      },
      "outputs": [
        {
          "output_type": "execute_result",
          "data": {
            "text/plain": [
              "Full Name       object\n",
              "Nickname        object\n",
              "Ht.            float64\n",
              "Wt.            float64\n",
              "Reach          float64\n",
              "Stance          object\n",
              "W                int64\n",
              "L                int64\n",
              "D                int64\n",
              "Belt              bool\n",
              "Round          float64\n",
              "KD             float64\n",
              "STR            float64\n",
              "TD             float64\n",
              "SUB            float64\n",
              "Ctrl           float64\n",
              "Sig. Str. %    float64\n",
              "Head_%         float64\n",
              "Body_%         float64\n",
              "Leg_%          float64\n",
              "Distance_%     float64\n",
              "Clinch_%       float64\n",
              "Ground_%       float64\n",
              "Sub. Att       float64\n",
              "Rev.           float64\n",
              "dtype: object"
            ],
            "text/html": [
              "<div>\n",
              "<style scoped>\n",
              "    .dataframe tbody tr th:only-of-type {\n",
              "        vertical-align: middle;\n",
              "    }\n",
              "\n",
              "    .dataframe tbody tr th {\n",
              "        vertical-align: top;\n",
              "    }\n",
              "\n",
              "    .dataframe thead th {\n",
              "        text-align: right;\n",
              "    }\n",
              "</style>\n",
              "<table border=\"1\" class=\"dataframe\">\n",
              "  <thead>\n",
              "    <tr style=\"text-align: right;\">\n",
              "      <th></th>\n",
              "      <th>0</th>\n",
              "    </tr>\n",
              "  </thead>\n",
              "  <tbody>\n",
              "    <tr>\n",
              "      <th>Full Name</th>\n",
              "      <td>object</td>\n",
              "    </tr>\n",
              "    <tr>\n",
              "      <th>Nickname</th>\n",
              "      <td>object</td>\n",
              "    </tr>\n",
              "    <tr>\n",
              "      <th>Ht.</th>\n",
              "      <td>float64</td>\n",
              "    </tr>\n",
              "    <tr>\n",
              "      <th>Wt.</th>\n",
              "      <td>float64</td>\n",
              "    </tr>\n",
              "    <tr>\n",
              "      <th>Reach</th>\n",
              "      <td>float64</td>\n",
              "    </tr>\n",
              "    <tr>\n",
              "      <th>Stance</th>\n",
              "      <td>object</td>\n",
              "    </tr>\n",
              "    <tr>\n",
              "      <th>W</th>\n",
              "      <td>int64</td>\n",
              "    </tr>\n",
              "    <tr>\n",
              "      <th>L</th>\n",
              "      <td>int64</td>\n",
              "    </tr>\n",
              "    <tr>\n",
              "      <th>D</th>\n",
              "      <td>int64</td>\n",
              "    </tr>\n",
              "    <tr>\n",
              "      <th>Belt</th>\n",
              "      <td>bool</td>\n",
              "    </tr>\n",
              "    <tr>\n",
              "      <th>Round</th>\n",
              "      <td>float64</td>\n",
              "    </tr>\n",
              "    <tr>\n",
              "      <th>KD</th>\n",
              "      <td>float64</td>\n",
              "    </tr>\n",
              "    <tr>\n",
              "      <th>STR</th>\n",
              "      <td>float64</td>\n",
              "    </tr>\n",
              "    <tr>\n",
              "      <th>TD</th>\n",
              "      <td>float64</td>\n",
              "    </tr>\n",
              "    <tr>\n",
              "      <th>SUB</th>\n",
              "      <td>float64</td>\n",
              "    </tr>\n",
              "    <tr>\n",
              "      <th>Ctrl</th>\n",
              "      <td>float64</td>\n",
              "    </tr>\n",
              "    <tr>\n",
              "      <th>Sig. Str. %</th>\n",
              "      <td>float64</td>\n",
              "    </tr>\n",
              "    <tr>\n",
              "      <th>Head_%</th>\n",
              "      <td>float64</td>\n",
              "    </tr>\n",
              "    <tr>\n",
              "      <th>Body_%</th>\n",
              "      <td>float64</td>\n",
              "    </tr>\n",
              "    <tr>\n",
              "      <th>Leg_%</th>\n",
              "      <td>float64</td>\n",
              "    </tr>\n",
              "    <tr>\n",
              "      <th>Distance_%</th>\n",
              "      <td>float64</td>\n",
              "    </tr>\n",
              "    <tr>\n",
              "      <th>Clinch_%</th>\n",
              "      <td>float64</td>\n",
              "    </tr>\n",
              "    <tr>\n",
              "      <th>Ground_%</th>\n",
              "      <td>float64</td>\n",
              "    </tr>\n",
              "    <tr>\n",
              "      <th>Sub. Att</th>\n",
              "      <td>float64</td>\n",
              "    </tr>\n",
              "    <tr>\n",
              "      <th>Rev.</th>\n",
              "      <td>float64</td>\n",
              "    </tr>\n",
              "  </tbody>\n",
              "</table>\n",
              "</div><br><label><b>dtype:</b> object</label>"
            ]
          },
          "metadata": {},
          "execution_count": 5
        }
      ],
      "source": [
        "fighters_df.dtypes"
      ]
    },
    {
      "cell_type": "markdown",
      "id": "d6ef8564",
      "metadata": {
        "papermill": {
          "duration": 0.006762,
          "end_time": "2025-09-29T06:03:53.036668",
          "exception": false,
          "start_time": "2025-09-29T06:03:53.029906",
          "status": "completed"
        },
        "tags": [],
        "id": "d6ef8564"
      },
      "source": [
        "We may need Weight Class and Gender for recommending fighters later."
      ]
    },
    {
      "cell_type": "code",
      "execution_count": null,
      "id": "4db2e59c",
      "metadata": {
        "execution": {
          "iopub.execute_input": "2025-09-29T06:03:53.051954Z",
          "iopub.status.busy": "2025-09-29T06:03:53.051497Z",
          "iopub.status.idle": "2025-09-29T06:03:53.069021Z",
          "shell.execute_reply": "2025-09-29T06:03:53.068065Z"
        },
        "papermill": {
          "duration": 0.026771,
          "end_time": "2025-09-29T06:03:53.070486",
          "exception": false,
          "start_time": "2025-09-29T06:03:53.043715",
          "status": "completed"
        },
        "tags": [],
        "id": "4db2e59c"
      },
      "outputs": [],
      "source": [
        "# Get each fighter's weightclass from the Fights dataset\n",
        "\n",
        "fighters_weight_class = pd.concat(\n",
        "    [\n",
        "        fights_df[['Fighter_1', 'Weight_Class']].rename(\n",
        "            columns={'Fighter_1': 'Full Name'}),\n",
        "        fights_df[['Fighter_2', 'Weight_Class']].rename(\n",
        "            columns={'Fighter_2': 'Full Name'})\n",
        "    ]\n",
        ")\n",
        "\n",
        "fighters_weight_class['Full Name'] = fighters_weight_class['Full Name'].astype('str')\n",
        "\n",
        "# Keep only the first occurence. Fights are already in a chronological order and we need to get last weight class a fighter played in\n",
        "fighters_weight_class = fighters_weight_class.drop_duplicates(\n",
        "    subset=['Full Name'], keep='first')\n",
        "\n",
        "# Join with fighters_df to add weight class information\n",
        "fighters_df = fighters_df.merge(\n",
        "    fighters_weight_class, on='Full Name', how='left')"
      ]
    },
    {
      "cell_type": "code",
      "execution_count": null,
      "id": "359e8984",
      "metadata": {
        "execution": {
          "iopub.execute_input": "2025-09-29T06:03:53.085614Z",
          "iopub.status.busy": "2025-09-29T06:03:53.085291Z",
          "iopub.status.idle": "2025-09-29T06:03:53.092193Z",
          "shell.execute_reply": "2025-09-29T06:03:53.091411Z"
        },
        "papermill": {
          "duration": 0.015998,
          "end_time": "2025-09-29T06:03:53.093493",
          "exception": false,
          "start_time": "2025-09-29T06:03:53.077495",
          "status": "completed"
        },
        "tags": [],
        "colab": {
          "base_uri": "https://localhost:8080/",
          "height": 554
        },
        "id": "359e8984",
        "outputId": "aa794568-b8fd-4549-8d1d-644186e0bc7f"
      },
      "outputs": [
        {
          "output_type": "execute_result",
          "data": {
            "text/plain": [
              "Weight_Class\n",
              "Welterweight             433\n",
              "Lightweight              409\n",
              "Middleweight             329\n",
              "Featherweight            260\n",
              "Heavyweight              255\n",
              "Bantamweight             243\n",
              "Light Heavyweight        184\n",
              "Flyweight                134\n",
              "Women's Strawweight      100\n",
              "Women's Flyweight         80\n",
              "Open Weight               70\n",
              "Women's Bantamweight      65\n",
              "Catch Weight              25\n",
              "Women's Featherweight      8\n",
              "Name: count, dtype: int64"
            ],
            "text/html": [
              "<div>\n",
              "<style scoped>\n",
              "    .dataframe tbody tr th:only-of-type {\n",
              "        vertical-align: middle;\n",
              "    }\n",
              "\n",
              "    .dataframe tbody tr th {\n",
              "        vertical-align: top;\n",
              "    }\n",
              "\n",
              "    .dataframe thead th {\n",
              "        text-align: right;\n",
              "    }\n",
              "</style>\n",
              "<table border=\"1\" class=\"dataframe\">\n",
              "  <thead>\n",
              "    <tr style=\"text-align: right;\">\n",
              "      <th></th>\n",
              "      <th>count</th>\n",
              "    </tr>\n",
              "    <tr>\n",
              "      <th>Weight_Class</th>\n",
              "      <th></th>\n",
              "    </tr>\n",
              "  </thead>\n",
              "  <tbody>\n",
              "    <tr>\n",
              "      <th>Welterweight</th>\n",
              "      <td>433</td>\n",
              "    </tr>\n",
              "    <tr>\n",
              "      <th>Lightweight</th>\n",
              "      <td>409</td>\n",
              "    </tr>\n",
              "    <tr>\n",
              "      <th>Middleweight</th>\n",
              "      <td>329</td>\n",
              "    </tr>\n",
              "    <tr>\n",
              "      <th>Featherweight</th>\n",
              "      <td>260</td>\n",
              "    </tr>\n",
              "    <tr>\n",
              "      <th>Heavyweight</th>\n",
              "      <td>255</td>\n",
              "    </tr>\n",
              "    <tr>\n",
              "      <th>Bantamweight</th>\n",
              "      <td>243</td>\n",
              "    </tr>\n",
              "    <tr>\n",
              "      <th>Light Heavyweight</th>\n",
              "      <td>184</td>\n",
              "    </tr>\n",
              "    <tr>\n",
              "      <th>Flyweight</th>\n",
              "      <td>134</td>\n",
              "    </tr>\n",
              "    <tr>\n",
              "      <th>Women's Strawweight</th>\n",
              "      <td>100</td>\n",
              "    </tr>\n",
              "    <tr>\n",
              "      <th>Women's Flyweight</th>\n",
              "      <td>80</td>\n",
              "    </tr>\n",
              "    <tr>\n",
              "      <th>Open Weight</th>\n",
              "      <td>70</td>\n",
              "    </tr>\n",
              "    <tr>\n",
              "      <th>Women's Bantamweight</th>\n",
              "      <td>65</td>\n",
              "    </tr>\n",
              "    <tr>\n",
              "      <th>Catch Weight</th>\n",
              "      <td>25</td>\n",
              "    </tr>\n",
              "    <tr>\n",
              "      <th>Women's Featherweight</th>\n",
              "      <td>8</td>\n",
              "    </tr>\n",
              "  </tbody>\n",
              "</table>\n",
              "</div><br><label><b>dtype:</b> int64</label>"
            ]
          },
          "metadata": {},
          "execution_count": 7
        }
      ],
      "source": [
        "fighters_df['Weight_Class'].value_counts()"
      ]
    },
    {
      "cell_type": "code",
      "execution_count": null,
      "id": "096cbcf8",
      "metadata": {
        "execution": {
          "iopub.execute_input": "2025-09-29T06:03:53.109100Z",
          "iopub.status.busy": "2025-09-29T06:03:53.108812Z",
          "iopub.status.idle": "2025-09-29T06:03:53.116818Z",
          "shell.execute_reply": "2025-09-29T06:03:53.115798Z"
        },
        "papermill": {
          "duration": 0.017491,
          "end_time": "2025-09-29T06:03:53.118284",
          "exception": false,
          "start_time": "2025-09-29T06:03:53.100793",
          "status": "completed"
        },
        "tags": [],
        "id": "096cbcf8"
      },
      "outputs": [],
      "source": [
        "# Extract gender from Weight_Class\n",
        "fighters_df['Gender'] = fighters_df['Weight_Class'].str.startswith('Women').map({True: 'Female', False: 'Male'})"
      ]
    },
    {
      "cell_type": "code",
      "execution_count": null,
      "id": "16e55ddd",
      "metadata": {
        "execution": {
          "iopub.execute_input": "2025-09-29T06:03:53.134064Z",
          "iopub.status.busy": "2025-09-29T06:03:53.133723Z",
          "iopub.status.idle": "2025-09-29T06:03:53.164422Z",
          "shell.execute_reply": "2025-09-29T06:03:53.163693Z"
        },
        "papermill": {
          "duration": 0.040324,
          "end_time": "2025-09-29T06:03:53.165927",
          "exception": false,
          "start_time": "2025-09-29T06:03:53.125603",
          "status": "completed"
        },
        "tags": [],
        "colab": {
          "base_uri": "https://localhost:8080/",
          "height": 235
        },
        "id": "16e55ddd",
        "outputId": "9a4ffc4c-9b00-4d89-e826-715d13020114"
      },
      "outputs": [
        {
          "output_type": "execute_result",
          "data": {
            "text/plain": [
              "             Full Name      Nickname   Ht.    Wt.  Reach    Stance   W   L  D  \\\n",
              "0         Danny Abbadi  The Assassin  5.11  155.0    NaN  Orthodox   4   6  0   \n",
              "1         David Abbott          Tank  6.00  265.0    NaN    Switch  10  15  0   \n",
              "2     Hamdy Abdelwahab    The Hammer  6.20  264.0   72.0  Southpaw   6   1  0   \n",
              "3   Mansur Abdul-Malik   No Nickname  6.20  185.0   80.0  Orthodox   8   0  1   \n",
              "4  Shamil Abdurakhimov         Abrek  6.30  235.0   76.0  Orthodox  20   8  0   \n",
              "\n",
              "    Belt  ...  Head_%  Body_%  Leg_%  Distance_%  Clinch_%  Ground_%  \\\n",
              "0  False  ...    0.30    0.89   0.00        0.27      0.55      0.38   \n",
              "1  False  ...    0.45    0.28   0.00        0.32      0.35      0.38   \n",
              "2  False  ...    0.41    0.78   0.80        0.46      0.22      0.49   \n",
              "3  False  ...    0.46    0.74   0.33        0.34      0.54      0.62   \n",
              "4  False  ...    0.37    0.42   0.68        0.30      0.38      0.38   \n",
              "\n",
              "   Sub. Att  Rev.  Weight_Class  Gender  \n",
              "0      0.00  0.00   Lightweight    Male  \n",
              "1      0.22  0.06   Heavyweight    Male  \n",
              "2      0.00  0.00   Heavyweight    Male  \n",
              "3      0.00  0.00  Middleweight    Male  \n",
              "4      0.09  0.00   Heavyweight    Male  \n",
              "\n",
              "[5 rows x 27 columns]"
            ],
            "text/html": [
              "\n",
              "  <div id=\"df-409a9c87-f115-4bb2-a4a4-8c895d8469a4\" class=\"colab-df-container\">\n",
              "    <div>\n",
              "<style scoped>\n",
              "    .dataframe tbody tr th:only-of-type {\n",
              "        vertical-align: middle;\n",
              "    }\n",
              "\n",
              "    .dataframe tbody tr th {\n",
              "        vertical-align: top;\n",
              "    }\n",
              "\n",
              "    .dataframe thead th {\n",
              "        text-align: right;\n",
              "    }\n",
              "</style>\n",
              "<table border=\"1\" class=\"dataframe\">\n",
              "  <thead>\n",
              "    <tr style=\"text-align: right;\">\n",
              "      <th></th>\n",
              "      <th>Full Name</th>\n",
              "      <th>Nickname</th>\n",
              "      <th>Ht.</th>\n",
              "      <th>Wt.</th>\n",
              "      <th>Reach</th>\n",
              "      <th>Stance</th>\n",
              "      <th>W</th>\n",
              "      <th>L</th>\n",
              "      <th>D</th>\n",
              "      <th>Belt</th>\n",
              "      <th>...</th>\n",
              "      <th>Head_%</th>\n",
              "      <th>Body_%</th>\n",
              "      <th>Leg_%</th>\n",
              "      <th>Distance_%</th>\n",
              "      <th>Clinch_%</th>\n",
              "      <th>Ground_%</th>\n",
              "      <th>Sub. Att</th>\n",
              "      <th>Rev.</th>\n",
              "      <th>Weight_Class</th>\n",
              "      <th>Gender</th>\n",
              "    </tr>\n",
              "  </thead>\n",
              "  <tbody>\n",
              "    <tr>\n",
              "      <th>0</th>\n",
              "      <td>Danny Abbadi</td>\n",
              "      <td>The Assassin</td>\n",
              "      <td>5.11</td>\n",
              "      <td>155.0</td>\n",
              "      <td>NaN</td>\n",
              "      <td>Orthodox</td>\n",
              "      <td>4</td>\n",
              "      <td>6</td>\n",
              "      <td>0</td>\n",
              "      <td>False</td>\n",
              "      <td>...</td>\n",
              "      <td>0.30</td>\n",
              "      <td>0.89</td>\n",
              "      <td>0.00</td>\n",
              "      <td>0.27</td>\n",
              "      <td>0.55</td>\n",
              "      <td>0.38</td>\n",
              "      <td>0.00</td>\n",
              "      <td>0.00</td>\n",
              "      <td>Lightweight</td>\n",
              "      <td>Male</td>\n",
              "    </tr>\n",
              "    <tr>\n",
              "      <th>1</th>\n",
              "      <td>David Abbott</td>\n",
              "      <td>Tank</td>\n",
              "      <td>6.00</td>\n",
              "      <td>265.0</td>\n",
              "      <td>NaN</td>\n",
              "      <td>Switch</td>\n",
              "      <td>10</td>\n",
              "      <td>15</td>\n",
              "      <td>0</td>\n",
              "      <td>False</td>\n",
              "      <td>...</td>\n",
              "      <td>0.45</td>\n",
              "      <td>0.28</td>\n",
              "      <td>0.00</td>\n",
              "      <td>0.32</td>\n",
              "      <td>0.35</td>\n",
              "      <td>0.38</td>\n",
              "      <td>0.22</td>\n",
              "      <td>0.06</td>\n",
              "      <td>Heavyweight</td>\n",
              "      <td>Male</td>\n",
              "    </tr>\n",
              "    <tr>\n",
              "      <th>2</th>\n",
              "      <td>Hamdy Abdelwahab</td>\n",
              "      <td>The Hammer</td>\n",
              "      <td>6.20</td>\n",
              "      <td>264.0</td>\n",
              "      <td>72.0</td>\n",
              "      <td>Southpaw</td>\n",
              "      <td>6</td>\n",
              "      <td>1</td>\n",
              "      <td>0</td>\n",
              "      <td>False</td>\n",
              "      <td>...</td>\n",
              "      <td>0.41</td>\n",
              "      <td>0.78</td>\n",
              "      <td>0.80</td>\n",
              "      <td>0.46</td>\n",
              "      <td>0.22</td>\n",
              "      <td>0.49</td>\n",
              "      <td>0.00</td>\n",
              "      <td>0.00</td>\n",
              "      <td>Heavyweight</td>\n",
              "      <td>Male</td>\n",
              "    </tr>\n",
              "    <tr>\n",
              "      <th>3</th>\n",
              "      <td>Mansur Abdul-Malik</td>\n",
              "      <td>No Nickname</td>\n",
              "      <td>6.20</td>\n",
              "      <td>185.0</td>\n",
              "      <td>80.0</td>\n",
              "      <td>Orthodox</td>\n",
              "      <td>8</td>\n",
              "      <td>0</td>\n",
              "      <td>1</td>\n",
              "      <td>False</td>\n",
              "      <td>...</td>\n",
              "      <td>0.46</td>\n",
              "      <td>0.74</td>\n",
              "      <td>0.33</td>\n",
              "      <td>0.34</td>\n",
              "      <td>0.54</td>\n",
              "      <td>0.62</td>\n",
              "      <td>0.00</td>\n",
              "      <td>0.00</td>\n",
              "      <td>Middleweight</td>\n",
              "      <td>Male</td>\n",
              "    </tr>\n",
              "    <tr>\n",
              "      <th>4</th>\n",
              "      <td>Shamil Abdurakhimov</td>\n",
              "      <td>Abrek</td>\n",
              "      <td>6.30</td>\n",
              "      <td>235.0</td>\n",
              "      <td>76.0</td>\n",
              "      <td>Orthodox</td>\n",
              "      <td>20</td>\n",
              "      <td>8</td>\n",
              "      <td>0</td>\n",
              "      <td>False</td>\n",
              "      <td>...</td>\n",
              "      <td>0.37</td>\n",
              "      <td>0.42</td>\n",
              "      <td>0.68</td>\n",
              "      <td>0.30</td>\n",
              "      <td>0.38</td>\n",
              "      <td>0.38</td>\n",
              "      <td>0.09</td>\n",
              "      <td>0.00</td>\n",
              "      <td>Heavyweight</td>\n",
              "      <td>Male</td>\n",
              "    </tr>\n",
              "  </tbody>\n",
              "</table>\n",
              "<p>5 rows × 27 columns</p>\n",
              "</div>\n",
              "    <div class=\"colab-df-buttons\">\n",
              "\n",
              "  <div class=\"colab-df-container\">\n",
              "    <button class=\"colab-df-convert\" onclick=\"convertToInteractive('df-409a9c87-f115-4bb2-a4a4-8c895d8469a4')\"\n",
              "            title=\"Convert this dataframe to an interactive table.\"\n",
              "            style=\"display:none;\">\n",
              "\n",
              "  <svg xmlns=\"http://www.w3.org/2000/svg\" height=\"24px\" viewBox=\"0 -960 960 960\">\n",
              "    <path d=\"M120-120v-720h720v720H120Zm60-500h600v-160H180v160Zm220 220h160v-160H400v160Zm0 220h160v-160H400v160ZM180-400h160v-160H180v160Zm440 0h160v-160H620v160ZM180-180h160v-160H180v160Zm440 0h160v-160H620v160Z\"/>\n",
              "  </svg>\n",
              "    </button>\n",
              "\n",
              "  <style>\n",
              "    .colab-df-container {\n",
              "      display:flex;\n",
              "      gap: 12px;\n",
              "    }\n",
              "\n",
              "    .colab-df-convert {\n",
              "      background-color: #E8F0FE;\n",
              "      border: none;\n",
              "      border-radius: 50%;\n",
              "      cursor: pointer;\n",
              "      display: none;\n",
              "      fill: #1967D2;\n",
              "      height: 32px;\n",
              "      padding: 0 0 0 0;\n",
              "      width: 32px;\n",
              "    }\n",
              "\n",
              "    .colab-df-convert:hover {\n",
              "      background-color: #E2EBFA;\n",
              "      box-shadow: 0px 1px 2px rgba(60, 64, 67, 0.3), 0px 1px 3px 1px rgba(60, 64, 67, 0.15);\n",
              "      fill: #174EA6;\n",
              "    }\n",
              "\n",
              "    .colab-df-buttons div {\n",
              "      margin-bottom: 4px;\n",
              "    }\n",
              "\n",
              "    [theme=dark] .colab-df-convert {\n",
              "      background-color: #3B4455;\n",
              "      fill: #D2E3FC;\n",
              "    }\n",
              "\n",
              "    [theme=dark] .colab-df-convert:hover {\n",
              "      background-color: #434B5C;\n",
              "      box-shadow: 0px 1px 3px 1px rgba(0, 0, 0, 0.15);\n",
              "      filter: drop-shadow(0px 1px 2px rgba(0, 0, 0, 0.3));\n",
              "      fill: #FFFFFF;\n",
              "    }\n",
              "  </style>\n",
              "\n",
              "    <script>\n",
              "      const buttonEl =\n",
              "        document.querySelector('#df-409a9c87-f115-4bb2-a4a4-8c895d8469a4 button.colab-df-convert');\n",
              "      buttonEl.style.display =\n",
              "        google.colab.kernel.accessAllowed ? 'block' : 'none';\n",
              "\n",
              "      async function convertToInteractive(key) {\n",
              "        const element = document.querySelector('#df-409a9c87-f115-4bb2-a4a4-8c895d8469a4');\n",
              "        const dataTable =\n",
              "          await google.colab.kernel.invokeFunction('convertToInteractive',\n",
              "                                                    [key], {});\n",
              "        if (!dataTable) return;\n",
              "\n",
              "        const docLinkHtml = 'Like what you see? Visit the ' +\n",
              "          '<a target=\"_blank\" href=https://colab.research.google.com/notebooks/data_table.ipynb>data table notebook</a>'\n",
              "          + ' to learn more about interactive tables.';\n",
              "        element.innerHTML = '';\n",
              "        dataTable['output_type'] = 'display_data';\n",
              "        await google.colab.output.renderOutput(dataTable, element);\n",
              "        const docLink = document.createElement('div');\n",
              "        docLink.innerHTML = docLinkHtml;\n",
              "        element.appendChild(docLink);\n",
              "      }\n",
              "    </script>\n",
              "  </div>\n",
              "\n",
              "\n",
              "    <div id=\"df-aaa5e714-fda3-418a-a293-7769e476cc21\">\n",
              "      <button class=\"colab-df-quickchart\" onclick=\"quickchart('df-aaa5e714-fda3-418a-a293-7769e476cc21')\"\n",
              "                title=\"Suggest charts\"\n",
              "                style=\"display:none;\">\n",
              "\n",
              "<svg xmlns=\"http://www.w3.org/2000/svg\" height=\"24px\"viewBox=\"0 0 24 24\"\n",
              "     width=\"24px\">\n",
              "    <g>\n",
              "        <path d=\"M19 3H5c-1.1 0-2 .9-2 2v14c0 1.1.9 2 2 2h14c1.1 0 2-.9 2-2V5c0-1.1-.9-2-2-2zM9 17H7v-7h2v7zm4 0h-2V7h2v10zm4 0h-2v-4h2v4z\"/>\n",
              "    </g>\n",
              "</svg>\n",
              "      </button>\n",
              "\n",
              "<style>\n",
              "  .colab-df-quickchart {\n",
              "      --bg-color: #E8F0FE;\n",
              "      --fill-color: #1967D2;\n",
              "      --hover-bg-color: #E2EBFA;\n",
              "      --hover-fill-color: #174EA6;\n",
              "      --disabled-fill-color: #AAA;\n",
              "      --disabled-bg-color: #DDD;\n",
              "  }\n",
              "\n",
              "  [theme=dark] .colab-df-quickchart {\n",
              "      --bg-color: #3B4455;\n",
              "      --fill-color: #D2E3FC;\n",
              "      --hover-bg-color: #434B5C;\n",
              "      --hover-fill-color: #FFFFFF;\n",
              "      --disabled-bg-color: #3B4455;\n",
              "      --disabled-fill-color: #666;\n",
              "  }\n",
              "\n",
              "  .colab-df-quickchart {\n",
              "    background-color: var(--bg-color);\n",
              "    border: none;\n",
              "    border-radius: 50%;\n",
              "    cursor: pointer;\n",
              "    display: none;\n",
              "    fill: var(--fill-color);\n",
              "    height: 32px;\n",
              "    padding: 0;\n",
              "    width: 32px;\n",
              "  }\n",
              "\n",
              "  .colab-df-quickchart:hover {\n",
              "    background-color: var(--hover-bg-color);\n",
              "    box-shadow: 0 1px 2px rgba(60, 64, 67, 0.3), 0 1px 3px 1px rgba(60, 64, 67, 0.15);\n",
              "    fill: var(--button-hover-fill-color);\n",
              "  }\n",
              "\n",
              "  .colab-df-quickchart-complete:disabled,\n",
              "  .colab-df-quickchart-complete:disabled:hover {\n",
              "    background-color: var(--disabled-bg-color);\n",
              "    fill: var(--disabled-fill-color);\n",
              "    box-shadow: none;\n",
              "  }\n",
              "\n",
              "  .colab-df-spinner {\n",
              "    border: 2px solid var(--fill-color);\n",
              "    border-color: transparent;\n",
              "    border-bottom-color: var(--fill-color);\n",
              "    animation:\n",
              "      spin 1s steps(1) infinite;\n",
              "  }\n",
              "\n",
              "  @keyframes spin {\n",
              "    0% {\n",
              "      border-color: transparent;\n",
              "      border-bottom-color: var(--fill-color);\n",
              "      border-left-color: var(--fill-color);\n",
              "    }\n",
              "    20% {\n",
              "      border-color: transparent;\n",
              "      border-left-color: var(--fill-color);\n",
              "      border-top-color: var(--fill-color);\n",
              "    }\n",
              "    30% {\n",
              "      border-color: transparent;\n",
              "      border-left-color: var(--fill-color);\n",
              "      border-top-color: var(--fill-color);\n",
              "      border-right-color: var(--fill-color);\n",
              "    }\n",
              "    40% {\n",
              "      border-color: transparent;\n",
              "      border-right-color: var(--fill-color);\n",
              "      border-top-color: var(--fill-color);\n",
              "    }\n",
              "    60% {\n",
              "      border-color: transparent;\n",
              "      border-right-color: var(--fill-color);\n",
              "    }\n",
              "    80% {\n",
              "      border-color: transparent;\n",
              "      border-right-color: var(--fill-color);\n",
              "      border-bottom-color: var(--fill-color);\n",
              "    }\n",
              "    90% {\n",
              "      border-color: transparent;\n",
              "      border-bottom-color: var(--fill-color);\n",
              "    }\n",
              "  }\n",
              "</style>\n",
              "\n",
              "      <script>\n",
              "        async function quickchart(key) {\n",
              "          const quickchartButtonEl =\n",
              "            document.querySelector('#' + key + ' button');\n",
              "          quickchartButtonEl.disabled = true;  // To prevent multiple clicks.\n",
              "          quickchartButtonEl.classList.add('colab-df-spinner');\n",
              "          try {\n",
              "            const charts = await google.colab.kernel.invokeFunction(\n",
              "                'suggestCharts', [key], {});\n",
              "          } catch (error) {\n",
              "            console.error('Error during call to suggestCharts:', error);\n",
              "          }\n",
              "          quickchartButtonEl.classList.remove('colab-df-spinner');\n",
              "          quickchartButtonEl.classList.add('colab-df-quickchart-complete');\n",
              "        }\n",
              "        (() => {\n",
              "          let quickchartButtonEl =\n",
              "            document.querySelector('#df-aaa5e714-fda3-418a-a293-7769e476cc21 button');\n",
              "          quickchartButtonEl.style.display =\n",
              "            google.colab.kernel.accessAllowed ? 'block' : 'none';\n",
              "        })();\n",
              "      </script>\n",
              "    </div>\n",
              "\n",
              "    </div>\n",
              "  </div>\n"
            ],
            "application/vnd.google.colaboratory.intrinsic+json": {
              "type": "dataframe",
              "variable_name": "fighters_df"
            }
          },
          "metadata": {},
          "execution_count": 9
        }
      ],
      "source": [
        "# fighters_df.set_index('Full Name',inplace=True)\n",
        "fighters_df.head()"
      ]
    },
    {
      "cell_type": "markdown",
      "id": "a1e62c39",
      "metadata": {
        "papermill": {
          "duration": 0.007029,
          "end_time": "2025-09-29T06:03:53.180512",
          "exception": false,
          "start_time": "2025-09-29T06:03:53.173483",
          "status": "completed"
        },
        "tags": [],
        "id": "a1e62c39"
      },
      "source": [
        "The data is here let's get to preprocessing"
      ]
    },
    {
      "cell_type": "code",
      "execution_count": null,
      "id": "a9d2470d",
      "metadata": {
        "execution": {
          "iopub.execute_input": "2025-09-29T06:03:53.196661Z",
          "iopub.status.busy": "2025-09-29T06:03:53.195730Z",
          "iopub.status.idle": "2025-09-29T06:03:53.204696Z",
          "shell.execute_reply": "2025-09-29T06:03:53.203999Z"
        },
        "papermill": {
          "duration": 0.018423,
          "end_time": "2025-09-29T06:03:53.206074",
          "exception": false,
          "start_time": "2025-09-29T06:03:53.187651",
          "status": "completed"
        },
        "tags": [],
        "colab": {
          "base_uri": "https://localhost:8080/",
          "height": 241
        },
        "id": "a9d2470d",
        "outputId": "e9a981fe-7d78-4628-a16a-4e3d284f98c8"
      },
      "outputs": [
        {
          "output_type": "execute_result",
          "data": {
            "text/plain": [
              "Ht.             14\n",
              "Wt.             11\n",
              "Reach          641\n",
              "Ctrl           123\n",
              "Sig. Str. %     21\n",
              "dtype: int64"
            ],
            "text/html": [
              "<div>\n",
              "<style scoped>\n",
              "    .dataframe tbody tr th:only-of-type {\n",
              "        vertical-align: middle;\n",
              "    }\n",
              "\n",
              "    .dataframe tbody tr th {\n",
              "        vertical-align: top;\n",
              "    }\n",
              "\n",
              "    .dataframe thead th {\n",
              "        text-align: right;\n",
              "    }\n",
              "</style>\n",
              "<table border=\"1\" class=\"dataframe\">\n",
              "  <thead>\n",
              "    <tr style=\"text-align: right;\">\n",
              "      <th></th>\n",
              "      <th>0</th>\n",
              "    </tr>\n",
              "  </thead>\n",
              "  <tbody>\n",
              "    <tr>\n",
              "      <th>Ht.</th>\n",
              "      <td>14</td>\n",
              "    </tr>\n",
              "    <tr>\n",
              "      <th>Wt.</th>\n",
              "      <td>11</td>\n",
              "    </tr>\n",
              "    <tr>\n",
              "      <th>Reach</th>\n",
              "      <td>641</td>\n",
              "    </tr>\n",
              "    <tr>\n",
              "      <th>Ctrl</th>\n",
              "      <td>123</td>\n",
              "    </tr>\n",
              "    <tr>\n",
              "      <th>Sig. Str. %</th>\n",
              "      <td>21</td>\n",
              "    </tr>\n",
              "  </tbody>\n",
              "</table>\n",
              "</div><br><label><b>dtype:</b> int64</label>"
            ]
          },
          "metadata": {},
          "execution_count": 10
        }
      ],
      "source": [
        "na_count = fighters_df.isna().sum()\n",
        "na_count[na_count > 0]"
      ]
    },
    {
      "cell_type": "code",
      "execution_count": null,
      "id": "dfb37d5a",
      "metadata": {
        "execution": {
          "iopub.execute_input": "2025-09-29T06:03:53.222277Z",
          "iopub.status.busy": "2025-09-29T06:03:53.221951Z",
          "iopub.status.idle": "2025-09-29T06:03:53.230825Z",
          "shell.execute_reply": "2025-09-29T06:03:53.229971Z"
        },
        "papermill": {
          "duration": 0.018766,
          "end_time": "2025-09-29T06:03:53.232393",
          "exception": false,
          "start_time": "2025-09-29T06:03:53.213627",
          "status": "completed"
        },
        "tags": [],
        "id": "dfb37d5a"
      },
      "outputs": [],
      "source": [
        "# 25% of fighters have missing Reach + I do not think Reach is important for clustering fighters into different styles\n",
        "fighters_df.drop(columns='Reach',inplace=True)\n",
        "# Menghilangkan fighters dengan kolom Ht dan Wt kosong\n",
        "fighters_df.dropna(subset=['Wt.','Ht.'],inplace=True)"
      ]
    },
    {
      "cell_type": "code",
      "execution_count": null,
      "id": "4cb3fdcb",
      "metadata": {
        "execution": {
          "iopub.execute_input": "2025-09-29T06:03:53.309430Z",
          "iopub.status.busy": "2025-09-29T06:03:53.308662Z",
          "iopub.status.idle": "2025-09-29T06:03:53.923252Z",
          "shell.execute_reply": "2025-09-29T06:03:53.922594Z"
        },
        "papermill": {
          "duration": 0.684864,
          "end_time": "2025-09-29T06:03:53.924727",
          "exception": false,
          "start_time": "2025-09-29T06:03:53.239863",
          "status": "completed"
        },
        "tags": [],
        "id": "4cb3fdcb"
      },
      "outputs": [],
      "source": [
        "# Imputing Ctrl and Significant Strikes Percentage with aggregated numbers of similar fighters\n",
        "from sklearn.impute import KNNImputer\n",
        "imputer = KNNImputer()\n",
        "imputer.fit(fighters_df[['Ctrl','Sig. Str. %']])\n",
        "fighters_df[['Ctrl','Sig. Str. %']] = imputer.transform(fighters_df[['Ctrl','Sig. Str. %']])"
      ]
    },
    {
      "cell_type": "code",
      "execution_count": null,
      "id": "e0464308",
      "metadata": {
        "execution": {
          "iopub.execute_input": "2025-09-29T06:03:53.941171Z",
          "iopub.status.busy": "2025-09-29T06:03:53.940425Z",
          "iopub.status.idle": "2025-09-29T06:03:53.956471Z",
          "shell.execute_reply": "2025-09-29T06:03:53.955835Z"
        },
        "papermill": {
          "duration": 0.025332,
          "end_time": "2025-09-29T06:03:53.957646",
          "exception": false,
          "start_time": "2025-09-29T06:03:53.932314",
          "status": "completed"
        },
        "tags": [],
        "id": "e0464308"
      },
      "outputs": [],
      "source": [
        "# Create a unique Fighter_Id by combining the first name, nickname, and last name\n",
        "fighters_df['Fighter_Id'] = (\n",
        "    fighters_df['Full Name'].str.split().str[0] + \" '\" +\n",
        "    fighters_df['Nickname'] + \"' \" +\n",
        "    fighters_df['Full Name'].str.split().str[1:].str.join(' ')\n",
        ")\n",
        "fighters_df['Fighter_Id'].duplicated().value_counts()\n",
        "# Fighter_Id can be an index to keep track of cluster results\n",
        "fighters_df.set_index('Fighter_Id',inplace=True)"
      ]
    },
    {
      "cell_type": "code",
      "execution_count": null,
      "id": "4ef31a3d",
      "metadata": {
        "execution": {
          "iopub.execute_input": "2025-09-29T06:03:53.974418Z",
          "iopub.status.busy": "2025-09-29T06:03:53.974038Z",
          "iopub.status.idle": "2025-09-29T06:03:53.980760Z",
          "shell.execute_reply": "2025-09-29T06:03:53.980124Z"
        },
        "papermill": {
          "duration": 0.016621,
          "end_time": "2025-09-29T06:03:53.982051",
          "exception": false,
          "start_time": "2025-09-29T06:03:53.965430",
          "status": "completed"
        },
        "tags": [],
        "id": "4ef31a3d"
      },
      "outputs": [],
      "source": [
        "cols_to_drop = ['Full Name','Nickname']\n",
        "X = fighters_df.drop(columns=cols_to_drop)\n",
        "cat_cols = ['Stance']\n",
        "X['Stance']=X['Stance'].astype('category')"
      ]
    },
    {
      "cell_type": "code",
      "execution_count": null,
      "id": "bf4b3468",
      "metadata": {
        "execution": {
          "iopub.execute_input": "2025-09-29T06:03:54.000730Z",
          "iopub.status.busy": "2025-09-29T06:03:53.999854Z",
          "iopub.status.idle": "2025-09-29T06:03:54.015696Z",
          "shell.execute_reply": "2025-09-29T06:03:54.014832Z"
        },
        "papermill": {
          "duration": 0.027495,
          "end_time": "2025-09-29T06:03:54.017370",
          "exception": false,
          "start_time": "2025-09-29T06:03:53.989875",
          "status": "completed"
        },
        "tags": [],
        "id": "bf4b3468"
      },
      "outputs": [],
      "source": [
        "from sklearn.preprocessing import StandardScaler\n",
        "\n",
        "# scale numeric columns in-place\n",
        "num_cols = X.select_dtypes(include=['number']).columns\n",
        "scaler = StandardScaler()\n",
        "X[num_cols] = scaler.fit_transform(X[num_cols])"
      ]
    },
    {
      "cell_type": "code",
      "execution_count": null,
      "id": "2439db13",
      "metadata": {
        "execution": {
          "iopub.execute_input": "2025-09-29T06:03:54.034087Z",
          "iopub.status.busy": "2025-09-29T06:03:54.033773Z",
          "iopub.status.idle": "2025-09-29T06:03:54.039408Z",
          "shell.execute_reply": "2025-09-29T06:03:54.038808Z"
        },
        "papermill": {
          "duration": 0.015657,
          "end_time": "2025-09-29T06:03:54.040700",
          "exception": false,
          "start_time": "2025-09-29T06:03:54.025043",
          "status": "completed"
        },
        "tags": [],
        "id": "2439db13"
      },
      "outputs": [],
      "source": [
        "# k-means assumes continuous variables. The use on categorical data, even when one-hot encoded,is questionable.\n",
        "# It sometimes works \"okayish\" but barely ever workd \"good\".\n",
        "\n",
        "# Feature Engineering : Adding a win ratio feature\n",
        "# X['Win Ratio'] = X['W'] / (X['W'] + X['L'] + X['D'])\n",
        "\n",
        "# Finding this comment helped me improve my model\n",
        "X.drop(columns=['Stance', 'Belt', 'Round', 'Weight_Class','Gender'], inplace=True)"
      ]
    },
    {
      "cell_type": "code",
      "execution_count": null,
      "id": "a3d822ab",
      "metadata": {
        "execution": {
          "iopub.execute_input": "2025-09-29T06:03:54.056603Z",
          "iopub.status.busy": "2025-09-29T06:03:54.056304Z",
          "iopub.status.idle": "2025-09-29T06:03:54.218482Z",
          "shell.execute_reply": "2025-09-29T06:03:54.217782Z"
        },
        "papermill": {
          "duration": 0.171946,
          "end_time": "2025-09-29T06:03:54.220122",
          "exception": false,
          "start_time": "2025-09-29T06:03:54.048176",
          "status": "completed"
        },
        "tags": [],
        "id": "a3d822ab"
      },
      "outputs": [],
      "source": [
        "from sklearn.cluster import KMeans\n",
        "from sklearn.metrics import silhouette_score, calinski_harabasz_score, davies_bouldin_score\n",
        "\n",
        "def train_kmeans(X):\n",
        "    kms = []\n",
        "    cluster_centers = []\n",
        "    silhouette_scores = []\n",
        "    inertias = []\n",
        "    calinski_scores = []\n",
        "    bouldin_scores = []\n",
        "\n",
        "    for i in range(2, 20):\n",
        "        km = KMeans(n_clusters=i,random_state=77)\n",
        "        km.fit(X)\n",
        "        labels = km.predict(X)\n",
        "        kms.append(km)\n",
        "        cluster_centers.append(km.cluster_centers_)\n",
        "        silhouette_scores.append(silhouette_score(X,labels))\n",
        "        inertias.append(km.inertia_)\n",
        "        calinski_scores.append(calinski_harabasz_score(X,labels))\n",
        "        bouldin_scores.append(davies_bouldin_score(X,labels))\n",
        "\n",
        "    return [kms,bouldin_scores,inertias,silhouette_scores,calinski_scores,cluster_centers]"
      ]
    },
    {
      "cell_type": "code",
      "execution_count": null,
      "id": "abd910ea",
      "metadata": {
        "execution": {
          "iopub.execute_input": "2025-09-29T06:03:54.236518Z",
          "iopub.status.busy": "2025-09-29T06:03:54.236257Z",
          "iopub.status.idle": "2025-09-29T06:03:54.243807Z",
          "shell.execute_reply": "2025-09-29T06:03:54.243131Z"
        },
        "papermill": {
          "duration": 0.017444,
          "end_time": "2025-09-29T06:03:54.245352",
          "exception": false,
          "start_time": "2025-09-29T06:03:54.227908",
          "status": "completed"
        },
        "tags": [],
        "id": "abd910ea"
      },
      "outputs": [],
      "source": [
        "def visualize_scores(bouldin_scores,inertias,silhouette_scores,calinski_scores):\n",
        "    fig, axs = plt.subplots(2, 2, figsize=(16, 12))\n",
        "\n",
        "    # Plot silhouette scores\n",
        "    axs[0, 0].plot(range(2, 20), silhouette_scores, 'o-', color='blue')\n",
        "    axs[0, 0].set_xlabel('Number of Clusters')\n",
        "    axs[0, 0].set_ylabel('Silhouette Score')\n",
        "    axs[0, 0].set_title('Silhouette Scores for Different Numbers of Clusters')\n",
        "    axs[0, 0].grid(True)\n",
        "\n",
        "    # Plot inertias\n",
        "    axs[0, 1].plot(range(2, 20), inertias, 'o-', color='red')\n",
        "    axs[0, 1].set_xlabel('Number of Clusters')\n",
        "    axs[0, 1].set_ylabel('Inertia')\n",
        "    axs[0, 1].set_title('Elbow Method for Optimal Number of Clusters')\n",
        "    axs[0, 1].grid(True)\n",
        "\n",
        "    # Plot Calinski-Harabasz scores\n",
        "    axs[1, 0].plot(range(2, 20), calinski_scores, 'o-', color='green')\n",
        "    axs[1, 0].set_xlabel('Number of Clusters')\n",
        "    axs[1, 0].set_ylabel('Calinski-Harabasz Score')\n",
        "    axs[1, 0].set_title('Calinski-Harabasz Scores')\n",
        "    axs[1, 0].grid(True)\n",
        "\n",
        "    # Plot Davies-Bouldin scores\n",
        "    axs[1, 1].plot(range(2, 20), bouldin_scores, 'o-', color='orange')\n",
        "    axs[1, 1].set_xlabel('Number of Clusters')\n",
        "    axs[1, 1].set_ylabel('Davies-Bouldin Score')\n",
        "    axs[1, 1].set_title('Davies-Bouldin Scores')\n",
        "    axs[1, 1].grid(True)\n",
        "\n",
        "    plt.tight_layout()\n",
        "    plt.show()"
      ]
    },
    {
      "cell_type": "code",
      "execution_count": null,
      "id": "34d15ba7",
      "metadata": {
        "execution": {
          "iopub.execute_input": "2025-09-29T06:03:54.262268Z",
          "iopub.status.busy": "2025-09-29T06:03:54.261497Z",
          "iopub.status.idle": "2025-09-29T06:03:59.248827Z",
          "shell.execute_reply": "2025-09-29T06:03:59.247882Z"
        },
        "papermill": {
          "duration": 4.998957,
          "end_time": "2025-09-29T06:03:59.252054",
          "exception": false,
          "start_time": "2025-09-29T06:03:54.253097",
          "status": "completed"
        },
        "tags": [],
        "colab": {
          "base_uri": "https://localhost:8080/",
          "height": 1000
        },
        "id": "34d15ba7",
        "outputId": "35cdc6ca-2fbf-4959-d8ea-4cf1d98ee92a"
      },
      "outputs": [
        {
          "output_type": "display_data",
          "data": {
            "text/plain": [
              "<Figure size 1600x1200 with 4 Axes>"
            ],
            "image/png": "[encoded data removed]"
          },
          "metadata": {}
        }
      ],
      "source": [
        "kms,bouldin_scores,inertias,silhouette_scores,calinski_scores,cluster_centers = train_kmeans(X)\n",
        "visualize_scores(bouldin_scores,inertias,silhouette_scores,calinski_scores)\n"
      ]
    },
    {
      "cell_type": "markdown",
      "id": "dc554a99",
      "metadata": {
        "papermill": {
          "duration": 0.010023,
          "end_time": "2025-09-29T06:03:59.272221",
          "exception": false,
          "start_time": "2025-09-29T06:03:59.262198",
          "status": "completed"
        },
        "tags": [],
        "id": "dc554a99"
      },
      "source": [
        "- There is no clear `Elbow` point in the Inertia graph\n",
        "- Based only on the previous graphs we are so much far from having clear and separated clusters"
      ]
    },
    {
      "cell_type": "code",
      "execution_count": null,
      "id": "6410844e",
      "metadata": {
        "execution": {
          "iopub.execute_input": "2025-09-29T06:03:59.293314Z",
          "iopub.status.busy": "2025-09-29T06:03:59.292653Z",
          "iopub.status.idle": "2025-09-29T06:04:55.054012Z",
          "shell.execute_reply": "2025-09-29T06:04:55.053114Z"
        },
        "papermill": {
          "duration": 55.773749,
          "end_time": "2025-09-29T06:04:55.055644",
          "exception": false,
          "start_time": "2025-09-29T06:03:59.281895",
          "status": "completed"
        },
        "tags": [],
        "id": "6410844e"
      },
      "outputs": [],
      "source": [
        "import umap\n",
        "\n",
        "# Reduce numeric features to 2D\n",
        "reducer = umap.UMAP(n_components=2)\n",
        "embedding = pd.DataFrame([])\n",
        "embedding[['UMAP_1', 'UMAP_2']] = reducer.fit_transform(X)"
      ]
    },
    {
      "cell_type": "code",
      "execution_count": null,
      "id": "73a34244",
      "metadata": {
        "execution": {
          "iopub.execute_input": "2025-09-29T06:04:55.077583Z",
          "iopub.status.busy": "2025-09-29T06:04:55.076986Z",
          "iopub.status.idle": "2025-09-29T06:04:55.096922Z",
          "shell.execute_reply": "2025-09-29T06:04:55.096196Z"
        },
        "papermill": {
          "duration": 0.03353,
          "end_time": "2025-09-29T06:04:55.099671",
          "exception": false,
          "start_time": "2025-09-29T06:04:55.066141",
          "status": "completed"
        },
        "tags": [],
        "id": "73a34244"
      },
      "outputs": [],
      "source": [
        "# PCA dimensionality Reduction\n",
        "from sklearn.decomposition import PCA\n",
        "\n",
        "pca = PCA(n_components=2,random_state=42)\n",
        "pca.fit(X)\n",
        "X_pca = pd.DataFrame([])\n",
        "X_pca[['PCA_1','PCA_2']] = pca.transform(X)"
      ]
    },
    {
      "cell_type": "code",
      "execution_count": null,
      "id": "ac71af73",
      "metadata": {
        "execution": {
          "iopub.execute_input": "2025-09-29T06:04:55.134531Z",
          "iopub.status.busy": "2025-09-29T06:04:55.133682Z",
          "iopub.status.idle": "2025-09-29T06:04:58.654344Z",
          "shell.execute_reply": "2025-09-29T06:04:58.653397Z"
        },
        "papermill": {
          "duration": 3.541395,
          "end_time": "2025-09-29T06:04:58.657637",
          "exception": false,
          "start_time": "2025-09-29T06:04:55.116242",
          "status": "completed"
        },
        "tags": [],
        "id": "ac71af73"
      },
      "outputs": [],
      "source": [
        "pca_kms,bouldin_scores,inertias,silhouette_scores,calinski_scores,cluster_centers = train_kmeans(X_pca)\n",
        "pca_km = pca_kms[2]\n",
        "visualize_scores(bouldin_scores,inertias,silhouette_scores,calinski_scores)"
      ]
    },
    {
      "cell_type": "code",
      "execution_count": null,
      "id": "aae5df48",
      "metadata": {
        "execution": {
          "iopub.execute_input": "2025-09-29T06:04:58.684961Z",
          "iopub.status.busy": "2025-09-29T06:04:58.684588Z",
          "iopub.status.idle": "2025-09-29T06:04:58.700016Z",
          "shell.execute_reply": "2025-09-29T06:04:58.698414Z"
        },
        "papermill": {
          "duration": 0.030896,
          "end_time": "2025-09-29T06:04:58.701597",
          "exception": false,
          "start_time": "2025-09-29T06:04:58.670701",
          "status": "completed"
        },
        "tags": [],
        "id": "aae5df48"
      },
      "outputs": [],
      "source": [
        "# This decision is based on the PCA visualizations performed .\n",
        "# We are going to continue with 4 clusters :) You can find why in the readme file\n",
        "km = kms[2]\n",
        "fighters_df['Cluster'] = km.predict(X)"
      ]
    },
    {
      "cell_type": "code",
      "execution_count": null,
      "id": "ebab14ef",
      "metadata": {
        "execution": {
          "iopub.execute_input": "2025-09-29T06:04:58.729285Z",
          "iopub.status.busy": "2025-09-29T06:04:58.728471Z",
          "iopub.status.idle": "2025-09-29T06:05:01.501650Z",
          "shell.execute_reply": "2025-09-29T06:05:01.500884Z"
        },
        "papermill": {
          "duration": 2.788806,
          "end_time": "2025-09-29T06:05:01.503535",
          "exception": false,
          "start_time": "2025-09-29T06:04:58.714729",
          "status": "completed"
        },
        "tags": [],
        "id": "ebab14ef"
      },
      "outputs": [],
      "source": [
        "# LLE\n",
        "from sklearn.manifold import LocallyLinearEmbedding\n",
        "lle = LocallyLinearEmbedding(n_components=2,n_neighbors=100,random_state=42)\n",
        "X_unrolled = pd.DataFrame([])\n",
        "X_unrolled[['LLE_1','LLE_2']] = lle.fit_transform(X)"
      ]
    },
    {
      "cell_type": "code",
      "execution_count": null,
      "id": "b1435829",
      "metadata": {
        "execution": {
          "iopub.execute_input": "2025-09-29T06:05:01.547119Z",
          "iopub.status.busy": "2025-09-29T06:05:01.546780Z",
          "iopub.status.idle": "2025-09-29T06:05:01.552530Z",
          "shell.execute_reply": "2025-09-29T06:05:01.551765Z"
        },
        "papermill": {
          "duration": 0.03048,
          "end_time": "2025-09-29T06:05:01.555009",
          "exception": false,
          "start_time": "2025-09-29T06:05:01.524529",
          "status": "completed"
        },
        "tags": [],
        "id": "b1435829"
      },
      "outputs": [],
      "source": [
        "# Print fighters of interest (That I already I know) and their cluster assignments\n",
        "def explore_clusters(col):\n",
        "    fighters_list = [\n",
        "        'Islam Makhachev',\n",
        "        'Ilia Topuria',\n",
        "        'Jon Jones',\n",
        "        'Daniel Cormier',\n",
        "        'Max Holloway',\n",
        "        'Demetrious Johnson',\n",
        "        'Dricus Du Plessis',\n",
        "        'Alex Pereira',\n",
        "        'Magomed Ankalaev',\n",
        "        'Israel Adesanya',\n",
        "        'Khabib Nurmagomedov',\n",
        "        'Alexander Volkanovski',\n",
        "        'Merab Dvalishvili',\n",
        "        'Umar Nurmagomedov',\n",
        "        'Conor McGregor',\n",
        "        'Francis Ngannou'\n",
        "    ]\n",
        "    for fighter in fighters_list :\n",
        "        print(fighter)\n",
        "        print(fighters_df[fighters_df['Full Name']==fighter][col])\n",
        "        print()"
      ]
    },
    {
      "cell_type": "code",
      "execution_count": null,
      "id": "6d25c66b",
      "metadata": {
        "_kg_hide-output": true,
        "execution": {
          "iopub.execute_input": "2025-09-29T06:05:01.597864Z",
          "iopub.status.busy": "2025-09-29T06:05:01.597501Z",
          "iopub.status.idle": "2025-09-29T06:05:01.622793Z",
          "shell.execute_reply": "2025-09-29T06:05:01.622027Z"
        },
        "papermill": {
          "duration": 0.048433,
          "end_time": "2025-09-29T06:05:01.624319",
          "exception": false,
          "start_time": "2025-09-29T06:05:01.575886",
          "status": "completed"
        },
        "tags": [],
        "id": "6d25c66b"
      },
      "outputs": [],
      "source": [
        "explore_clusters('Cluster')"
      ]
    },
    {
      "cell_type": "code",
      "execution_count": null,
      "id": "9975ff1a",
      "metadata": {
        "execution": {
          "iopub.execute_input": "2025-09-29T06:05:01.651724Z",
          "iopub.status.busy": "2025-09-29T06:05:01.651042Z",
          "iopub.status.idle": "2025-09-29T06:05:01.656059Z",
          "shell.execute_reply": "2025-09-29T06:05:01.655328Z"
        },
        "papermill": {
          "duration": 0.020039,
          "end_time": "2025-09-29T06:05:01.657348",
          "exception": false,
          "start_time": "2025-09-29T06:05:01.637309",
          "status": "completed"
        },
        "tags": [],
        "id": "9975ff1a"
      },
      "outputs": [],
      "source": [
        "def scatter_plot(x,y,hue,title,ax):\n",
        "    sns.scatterplot(\n",
        "        x=x, y=y,hue=fighters_df[hue].to_numpy(),\n",
        "        palette='tab10',\n",
        "        alpha=0.7,\n",
        "        s=100, linewidth=0,ax=ax\n",
        "    )\n",
        "    ax.set_title(title)\n",
        "    ax.legend(title='Fighting Style', bbox_to_anchor=(\n",
        "        1.02, 1), loc='upper left', borderaxespad=0.)\n",
        "    plt.tight_layout()"
      ]
    },
    {
      "cell_type": "code",
      "execution_count": null,
      "id": "abd5249e",
      "metadata": {
        "execution": {
          "iopub.execute_input": "2025-09-29T06:05:01.685471Z",
          "iopub.status.busy": "2025-09-29T06:05:01.684814Z",
          "iopub.status.idle": "2025-09-29T06:05:02.682381Z",
          "shell.execute_reply": "2025-09-29T06:05:02.681367Z"
        },
        "papermill": {
          "duration": 1.028281,
          "end_time": "2025-09-29T06:05:02.698808",
          "exception": false,
          "start_time": "2025-09-29T06:05:01.670527",
          "status": "completed"
        },
        "tags": [],
        "id": "abd5249e"
      },
      "outputs": [],
      "source": [
        "fig, axs = plt.subplots(1, 3, figsize=(24, 8))\n",
        "\n",
        "# Plot UMAP embedding\n",
        "sns.scatterplot(\n",
        "    x=embedding['UMAP_1'], y=embedding['UMAP_2'],\n",
        "    hue=fighters_df['Cluster'].to_numpy(),\n",
        "    palette='tab10',\n",
        "    alpha=0.7,\n",
        "    s=80, linewidth=0,\n",
        "    ax=axs[0]\n",
        ")\n",
        "axs[0].set_title('Fighters UMAP embedding by fighting style')\n",
        "axs[0].set_xlabel('UMAP_1')\n",
        "axs[0].set_ylabel('UMAP_2')\n",
        "\n",
        "# Plot PCA\n",
        "sns.scatterplot(\n",
        "    x=X_pca['PCA_1'], y=X_pca['PCA_2'],\n",
        "    hue=fighters_df['Cluster'].to_numpy(),\n",
        "    palette='tab10',\n",
        "    alpha=0.7,\n",
        "    s=80, linewidth=0,\n",
        "    ax=axs[1]\n",
        ")\n",
        "axs[1].set_title('Fighters PCA by fighting style')\n",
        "axs[1].set_xlabel('PCA_1')\n",
        "axs[1].set_ylabel('PCA_2')\n",
        "\n",
        "# Plot LLE\n",
        "sns.scatterplot(\n",
        "    x=X_unrolled['LLE_1'], y=X_unrolled['LLE_2'],\n",
        "    hue=fighters_df['Cluster'].to_numpy(),\n",
        "    palette='tab10',\n",
        "    alpha=0.7,\n",
        "    s=80, linewidth=0,\n",
        "    ax=axs[2]\n",
        ")\n",
        "axs[2].set_title('Locally Linear Embedding by fighting style')\n",
        "axs[2].set_xlabel('LLE_1')\n",
        "axs[2].set_ylabel('LLE_2')\n",
        "\n",
        "# Add a single legend for the entire figure\n",
        "handles, labels = axs[0].get_legend_handles_labels()\n",
        "fig.legend(handles, labels, title='Fighting Style',\n",
        "           bbox_to_anchor=(1.01, 0.5), loc='center left', borderaxespad=0.)\n",
        "\n",
        "# Remove individual legends from subplots\n",
        "for ax in axs:\n",
        "    ax.get_legend().remove()\n",
        "\n",
        "plt.tight_layout()\n",
        "plt.show()\n"
      ]
    },
    {
      "cell_type": "markdown",
      "id": "31298e7a",
      "metadata": {
        "papermill": {
          "duration": 0.026338,
          "end_time": "2025-09-29T06:05:02.752321",
          "exception": false,
          "start_time": "2025-09-29T06:05:02.725983",
          "status": "completed"
        },
        "tags": [],
        "id": "31298e7a"
      },
      "source": [
        "There is no clear separated clusters. However the UMAP visualization seems to be the best, having the minimum of overlapping points"
      ]
    },
    {
      "cell_type": "markdown",
      "id": "68f9f383",
      "metadata": {
        "papermill": {
          "duration": 0.02599,
          "end_time": "2025-09-29T06:05:02.804218",
          "exception": false,
          "start_time": "2025-09-29T06:05:02.778228",
          "status": "completed"
        },
        "tags": [],
        "id": "68f9f383"
      },
      "source": [
        "Testing the model on the reduced dataset"
      ]
    },
    {
      "cell_type": "code",
      "execution_count": null,
      "id": "ae0d06bb",
      "metadata": {
        "execution": {
          "iopub.execute_input": "2025-09-29T06:05:02.857853Z",
          "iopub.status.busy": "2025-09-29T06:05:02.857511Z",
          "iopub.status.idle": "2025-09-29T06:05:03.727632Z",
          "shell.execute_reply": "2025-09-29T06:05:03.726685Z"
        },
        "papermill": {
          "duration": 0.912332,
          "end_time": "2025-09-29T06:05:03.742570",
          "exception": false,
          "start_time": "2025-09-29T06:05:02.830238",
          "status": "completed"
        },
        "tags": [],
        "id": "ae0d06bb"
      },
      "outputs": [],
      "source": [
        "fig,axs = plt.subplots(1,2, figsize=(24, 8))\n",
        "pca_km.fit(X_pca)\n",
        "fighters_df['PCA Cluster'] = pca_km.predict(X_pca)\n",
        "scatter_plot(embedding['UMAP_1'],embedding['UMAP_2'],'PCA Cluster','Clustering on UMAP',axs[0])\n",
        "scatter_plot(X_pca['PCA_1'],X_pca['PCA_2'],'PCA Cluster','Clustering on PCA',axs[1])\n",
        "\n",
        "handles, labels = axs[0].get_legend_handles_labels()\n",
        "fig.legend(handles, labels, title='Fighting Style',\n",
        "           bbox_to_anchor=(1.01, 0.5), loc='center left', borderaxespad=0.)\n",
        "\n",
        "for ax in axs:\n",
        "    ax.get_legend().remove()\n",
        "\n",
        "plt.tight_layout()\n",
        "plt.show()"
      ]
    },
    {
      "cell_type": "markdown",
      "id": "5ca52cf8",
      "metadata": {
        "papermill": {
          "duration": 0.039499,
          "end_time": "2025-09-29T06:05:03.821656",
          "exception": false,
          "start_time": "2025-09-29T06:05:03.782157",
          "status": "completed"
        },
        "tags": [],
        "id": "5ca52cf8"
      },
      "source": [
        "`PCA_km` model is far more **precise** than `km`"
      ]
    },
    {
      "cell_type": "code",
      "execution_count": null,
      "id": "715653e8",
      "metadata": {
        "_kg_hide-output": true,
        "execution": {
          "iopub.execute_input": "2025-09-29T06:05:03.900728Z",
          "iopub.status.busy": "2025-09-29T06:05:03.899922Z",
          "iopub.status.idle": "2025-09-29T06:05:03.923809Z",
          "shell.execute_reply": "2025-09-29T06:05:03.922480Z"
        },
        "papermill": {
          "duration": 0.065325,
          "end_time": "2025-09-29T06:05:03.925587",
          "exception": false,
          "start_time": "2025-09-29T06:05:03.860262",
          "status": "completed"
        },
        "tags": [],
        "id": "715653e8"
      },
      "outputs": [],
      "source": [
        "explore_clusters('PCA Cluster')"
      ]
    },
    {
      "cell_type": "markdown",
      "id": "1b02a964",
      "metadata": {
        "papermill": {
          "duration": 0.038213,
          "end_time": "2025-09-29T06:05:04.002907",
          "exception": false,
          "start_time": "2025-09-29T06:05:03.964694",
          "status": "completed"
        },
        "tags": [],
        "id": "1b02a964"
      },
      "source": [
        "Explore each cluster summary statistics to gain insights about fighting style."
      ]
    },
    {
      "cell_type": "code",
      "execution_count": null,
      "id": "468d9160",
      "metadata": {
        "execution": {
          "iopub.execute_input": "2025-09-29T06:05:04.081317Z",
          "iopub.status.busy": "2025-09-29T06:05:04.080909Z",
          "iopub.status.idle": "2025-09-29T06:05:04.086777Z",
          "shell.execute_reply": "2025-09-29T06:05:04.085882Z"
        },
        "papermill": {
          "duration": 0.046573,
          "end_time": "2025-09-29T06:05:04.088016",
          "exception": false,
          "start_time": "2025-09-29T06:05:04.041443",
          "status": "completed"
        },
        "tags": [],
        "id": "468d9160"
      },
      "outputs": [],
      "source": [
        "fighters_df.columns"
      ]
    },
    {
      "cell_type": "code",
      "execution_count": null,
      "id": "a19dbcdb",
      "metadata": {
        "execution": {
          "iopub.execute_input": "2025-09-29T06:05:04.167380Z",
          "iopub.status.busy": "2025-09-29T06:05:04.166583Z",
          "iopub.status.idle": "2025-09-29T06:05:04.176071Z",
          "shell.execute_reply": "2025-09-29T06:05:04.175397Z"
        },
        "papermill": {
          "duration": 0.050617,
          "end_time": "2025-09-29T06:05:04.177292",
          "exception": false,
          "start_time": "2025-09-29T06:05:04.126675",
          "status": "completed"
        },
        "tags": [],
        "id": "a19dbcdb"
      },
      "outputs": [],
      "source": [
        "def visualize_cluster_statistics(cluster):\n",
        "    cols = ['W', 'L', 'D', 'Round', 'KD', 'STR', 'TD', 'SUB', 'Ctrl', 'Sig. Str. %',\n",
        "            'Distance_%', 'Clinch_%', 'Ground_%', 'Sub. Att', 'Rev.', cluster]\n",
        "\n",
        "    means = fighters_df[cols].select_dtypes(\n",
        "        include='number').groupby(cluster).mean().reset_index()\n",
        "\n",
        "    n_cols = 3\n",
        "    n_rows = (len(cols) + n_cols - 1) // n_cols\n",
        "\n",
        "    fig, axs = plt.subplots(n_rows, n_cols, figsize=(24, n_rows*5))\n",
        "    axs = axs.flatten()\n",
        "\n",
        "    for i, col in enumerate(cols):\n",
        "        # Avoid visualizing the cluster column against itself\n",
        "        if col == cluster :\n",
        "            fig.delaxes(axs[i])\n",
        "            continue\n",
        "\n",
        "        sns.barplot(data=means, x=cluster,\n",
        "                    y=cols[i], palette='viridis', hue=cluster, ax=axs[i])\n",
        "        axs[i].set_title(f'{cols[i]} by {cluster}', fontsize=16)\n",
        "        axs[i].set_xlabel('Clusters', fontsize=14)\n",
        "        axs[i].set_ylabel(cols[i], fontsize=14)\n",
        "\n",
        "        # Annotate bars with their values\n",
        "        for p in axs[i].patches:\n",
        "            axs[i].annotate(f'{p.get_height():.2f}',\n",
        "                            (p.get_x() + p.get_width() / 2., p.get_height()),\n",
        "                            ha='center', va='bottom', fontsize=10)\n",
        "\n",
        "    # Delete unused figures\n",
        "    for i in range(len(cols), len(axs)):\n",
        "        fig.delaxes(axs[i])\n",
        "\n",
        "    # Remove individual legends from each subplot\n",
        "    for ax in axs[:len(cols)]:\n",
        "        if ax.get_legend() is not None:\n",
        "            ax.get_legend().remove()\n",
        "\n",
        "    # Create a single legend for the entire figure\n",
        "    handles, labels = axs[0].get_legend_handles_labels()\n",
        "    fig.legend(handles, labels, title=cluster,\n",
        "                bbox_to_anchor=(1.02, 0.95), loc='upper left',\n",
        "                borderaxespad=0., fontsize=12)\n",
        "\n",
        "    # plt.tight_layout(pad=3.0)\n",
        "    plt.suptitle('Fighter Metrics by Cluster', fontsize=20, y=1.02)\n",
        "    plt.show()"
      ]
    },
    {
      "cell_type": "markdown",
      "id": "cc628e58",
      "metadata": {
        "papermill": {
          "duration": 0.047628,
          "end_time": "2025-09-29T06:05:10.866694",
          "exception": false,
          "start_time": "2025-09-29T06:05:10.819066",
          "status": "completed"
        },
        "tags": [],
        "id": "cc628e58"
      },
      "source": [
        "# Clustering Analysis of UFC Fighter Styles\n",
        "\n",
        "After completing these two visualizations we can confidently say:\n",
        "\n",
        "- **Cluster 0** has nothing significant: so they will be labeled as 'No Fighting Style'.\n",
        "- **Cluster 1** is for strikers: fighters in this group have the highest knockdown average, strikes and significant strikes percentage.\n",
        "- **Cluster 2** is for hybrid fighters: having a mix of both striking & wrestling.\n",
        "- **Cluster 3** is for wrestlers: fighters who tend more to the ground game having the biggest control time, submissions, ground strikes percentage, submission attempts and more features distinguishing wrestlers."
      ]
    },
    {
      "cell_type": "code",
      "execution_count": null,
      "id": "4d9fb8b9",
      "metadata": {
        "execution": {
          "iopub.execute_input": "2025-09-29T06:05:10.962432Z",
          "iopub.status.busy": "2025-09-29T06:05:10.961473Z",
          "iopub.status.idle": "2025-09-29T06:05:10.970672Z",
          "shell.execute_reply": "2025-09-29T06:05:10.969804Z"
        },
        "papermill": {
          "duration": 0.058964,
          "end_time": "2025-09-29T06:05:10.972204",
          "exception": false,
          "start_time": "2025-09-29T06:05:10.913240",
          "status": "completed"
        },
        "tags": [],
        "id": "4d9fb8b9"
      },
      "outputs": [],
      "source": [
        "# Mapping cluster numbers to the corresponding fighting style\n",
        "map_dict = {\n",
        "    0 : 'No Fighting Style',\n",
        "    1 : 'Striker',\n",
        "    2 : 'Hybrid',\n",
        "    3 : 'Wrestler'\n",
        "}\n",
        "\n",
        "fighters_df['Fighting Style'] = fighters_df['PCA Cluster'].map(map_dict)\n",
        "\n",
        "# Converting the Fighting Style column into categorical\n",
        "fighters_df['Fighting Style']= fighters_df['Fighting Style'].astype('category')\n",
        "# Finished working with the numerical categories.\n",
        "# It's time to drop them\n",
        "fighters_df.drop(columns=['Cluster','PCA Cluster'],inplace=True)"
      ]
    },
    {
      "cell_type": "code",
      "execution_count": null,
      "id": "a9099bc5",
      "metadata": {
        "execution": {
          "iopub.execute_input": "2025-09-29T06:05:11.067387Z",
          "iopub.status.busy": "2025-09-29T06:05:11.067079Z",
          "iopub.status.idle": "2025-09-29T06:05:11.605301Z",
          "shell.execute_reply": "2025-09-29T06:05:11.604380Z"
        },
        "papermill": {
          "duration": 0.587427,
          "end_time": "2025-09-29T06:05:11.606734",
          "exception": false,
          "start_time": "2025-09-29T06:05:11.019307",
          "status": "completed"
        },
        "tags": [],
        "id": "a9099bc5"
      },
      "outputs": [],
      "source": [
        "# Visualizing how each Fighting Style correlates to fighter's statistics\n",
        "# I need to do this one hot encoding because corr method does not accept any non numerical feature\n",
        "style_dummies = pd.get_dummies(fighters_df['Fighting Style'])\n",
        "numeric_with_style = pd.concat([fighters_df.select_dtypes(exclude=['object','bool','category']), style_dummies], axis=1)\n",
        "\n",
        "# Also removing feature that the model was not trained on\n",
        "no_train_cols = ['Ht.','Wt.','W','L','D','Round']\n",
        "numeric_with_style.drop(columns=no_train_cols,inplace=True)\n",
        "\n",
        "corr_matrix = numeric_with_style.corr()\n",
        "\n",
        "plt.figure(figsize=(20, 16))\n",
        "style_cols = ['Striker', 'Wrestler', 'Hybrid', 'No Fighting Style']\n",
        "corr_with_styles = corr_matrix.loc[numeric_with_style.select_dtypes(exclude=['object', 'category', 'bool']).columns, style_cols]\n",
        "\n",
        "sns.heatmap(corr_with_styles, annot=True, fmt='.2f', linewidths=0.5,cmap='viridis', annot_kws={\"size\": 16})\n",
        "plt.title('Correlation between Numeric Features and Fighting Styles', fontsize=16)\n",
        "plt.tight_layout()\n",
        "plt.show()"
      ]
    },
    {
      "cell_type": "markdown",
      "id": "362ff15f",
      "metadata": {
        "papermill": {
          "duration": 0.048928,
          "end_time": "2025-09-29T06:05:11.706971",
          "exception": false,
          "start_time": "2025-09-29T06:05:11.658043",
          "status": "completed"
        },
        "tags": [],
        "id": "362ff15f"
      },
      "source": [
        "### This is absolutely amazing!\n",
        "\n",
        "This correlation heatmap reveals a **clear relationship** between fighting styles and their defining characteristics:\n",
        "\n",
        "- **Strikers**: Strong positive correlation with striking metrics (STR, KD, Sig. Str. %, Distance_%)\n",
        "- **Wrestlers**: Highly correlated with ground game metrics (SUB, TD, Ctrl, Sub. Att, Rev.)\n",
        "- **Hybrid Fighters**: Negative correlations with specialized metrics, indicating balanced skill distribution\n",
        "- **No Clear Style**: Strong negative correlation with technical metrics across the board\n",
        "\n",
        "These correlations validate our clustering approach perfectly!"
      ]
    },
    {
      "cell_type": "code",
      "execution_count": null,
      "id": "dbbea746",
      "metadata": {
        "execution": {
          "iopub.execute_input": "2025-09-29T06:05:11.805253Z",
          "iopub.status.busy": "2025-09-29T06:05:11.804935Z",
          "iopub.status.idle": "2025-09-29T06:05:11.827565Z",
          "shell.execute_reply": "2025-09-29T06:05:11.826739Z"
        },
        "papermill": {
          "duration": 0.073328,
          "end_time": "2025-09-29T06:05:11.828994",
          "exception": false,
          "start_time": "2025-09-29T06:05:11.755666",
          "status": "completed"
        },
        "tags": [],
        "id": "dbbea746"
      },
      "outputs": [],
      "source": [
        "fighters_df.head()"
      ]
    },
    {
      "cell_type": "code",
      "execution_count": null,
      "id": "b906bb06",
      "metadata": {
        "execution": {
          "iopub.execute_input": "2025-09-29T06:05:11.932887Z",
          "iopub.status.busy": "2025-09-29T06:05:11.932566Z",
          "iopub.status.idle": "2025-09-29T06:05:12.144752Z",
          "shell.execute_reply": "2025-09-29T06:05:12.143841Z"
        },
        "papermill": {
          "duration": 0.266267,
          "end_time": "2025-09-29T06:05:12.146315",
          "exception": false,
          "start_time": "2025-09-29T06:05:11.880048",
          "status": "completed"
        },
        "tags": [],
        "id": "b906bb06"
      },
      "outputs": [],
      "source": [
        "# Create a pie chart to visualize the distribution of fighting styles\n",
        "plt.figure(figsize=(15, 8))\n",
        "style_counts = fighters_df['Fighting Style'].value_counts()\n",
        "colors = sns.color_palette('tab10')\n",
        "plt.pie(style_counts, labels=style_counts.index, autopct='%1.1f%%',\n",
        "    startangle=90, colors=colors, shadow=True, explode=[0.05, 0.05, 0.05, 0.05])\n",
        "plt.title('Distribution of Fighter Styles', fontsize=16)\n",
        "plt.axis('equal')\n",
        "plt.tight_layout(pad=3)\n",
        "plt.show()"
      ]
    }
  ],
  "metadata": {
    "kaggle": {
      "accelerator": "none",
      "dataSources": [
        {
          "datasetId": 8299376,
          "sourceId": 13201397,
          "sourceType": "datasetVersion"
        }
      ],
      "dockerImageVersionId": 31089,
      "isGpuEnabled": false,
      "isInternetEnabled": true,
      "language": "python",
      "sourceType": "notebook"
    },
    "kernelspec": {
      "display_name": "Python 3",
      "language": "python",
      "name": "python3"
    },
    "language_info": {
      "codemirror_mode": {
        "name": "ipython",
        "version": 3
      },
      "file_extension": ".py",
      "mimetype": "text/x-python",
      "name": "python",
      "nbconvert_exporter": "python",
      "pygments_lexer": "ipython3",
      "version": "3.11.13"
    },
    "papermill": {
      "default_parameters": {},
      "duration": 90.566776,
      "end_time": "2025-09-29T06:05:14.842535",
      "environment_variables": {},
      "exception": null,
      "input_path": "__notebook__.ipynb",
      "output_path": "__notebook__.ipynb",
      "parameters": {},
      "start_time": "2025-09-29T06:03:44.275759",
      "version": "2.6.0"
    },
    "colab": {
      "provenance": [],
      "include_colab_link": true
    }
  },
  "nbformat": 4,
  "nbformat_minor": 5
}