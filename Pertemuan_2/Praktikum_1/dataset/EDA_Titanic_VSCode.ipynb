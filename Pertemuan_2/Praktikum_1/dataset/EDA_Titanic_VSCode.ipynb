{
  "nbformat": 4,
  "nbformat_minor": 5,
  "metadata": {
    "kernelspec": {
      "display_name": "Python 3",
      "language": "python",
      "name": "python3"
    },
    "language_info": {
      "name": "python",
      "version": "3.x"
    }
  },
  "cells": [
    {
      "cell_type": "markdown",
      "metadata": {},
      "source": [
        "\n",
        "# Praktikum 1 — Exploratory Data Analysis (EDA) — Titanic\n",
        "\n",
        "Notebook ini disiapkan untuk dijalankan **langsung di VS Code** (Cara 1: Jupyter Notebook).  \n",
        "Letakkan file **`Titanic-Dataset.csv`** di **folder yang sama** dengan notebook ini, lalu jalankan cell dari atas ke bawah.\n",
        "\n",
        "> Tip: Jika belum memasang library, jalankan cell \"Instalasi (opsional)\".\n"
      ]
    },
    {
      "cell_type": "code",
      "metadata": {},
      "execution_count": null,
      "outputs": [],
      "source": [
        "\n",
        "# Instalasi (opsional) — jalankan jika perlu\n",
        "# Hapus komentar (!) di bawah jika Anda butuh menginstal package\n",
        "# !pip install -q pandas numpy matplotlib\n"
      ]
    },
    {
      "cell_type": "code",
      "metadata": {},
      "execution_count": null,
      "outputs": [],
      "source": [
        "\n",
        "import pandas as pd\n",
        "import numpy as np\n",
        "import matplotlib.pyplot as plt\n",
        "\n",
        "# Konfigurasi tampilan DataFrame agar lebih ringkas\n",
        "pd.set_option('display.max_columns', 50)\n",
        "pd.set_option('display.width', 120)\n"
      ]
    },
    {
      "cell_type": "markdown",
      "metadata": {},
      "source": [
        "## Langkah 1 — Memuat Data"
      ]
    },
    {
      "cell_type": "code",
      "metadata": {},
      "execution_count": null,
      "outputs": [],
      "source": [
        "\n",
        "# Pastikan file 'Titanic-Dataset.csv' berada di folder yang sama dengan notebook ini\n",
        "df = pd.read_csv('Titanic-Dataset.csv')\n",
        "df.head()\n"
      ]
    },
    {
      "cell_type": "markdown",
      "metadata": {},
      "source": [
        "## Langkah 2 — Inspeksi Data"
      ]
    },
    {
      "cell_type": "code",
      "metadata": {},
      "execution_count": null,
      "outputs": [],
      "source": [
        "\n",
        "# Pengecekan dimensi\n",
        "print(\"Dimensi data (baris, kolom):\", df.shape)\n"
      ]
    },
    {
      "cell_type": "code",
      "metadata": {},
      "execution_count": null,
      "outputs": [],
      "source": [
        "\n",
        "# Pengecekan tipe data dan non-null count\n",
        "df.info()\n"
      ]
    },
    {
      "cell_type": "code",
      "metadata": {},
      "execution_count": null,
      "outputs": [],
      "source": [
        "\n",
        "# Jumlah data hilang di tiap kolom\n",
        "df.isnull().sum()\n"
      ]
    },
    {
      "cell_type": "code",
      "metadata": {},
      "execution_count": null,
      "outputs": [],
      "source": [
        "\n",
        "# Ringkasan statistik deskriptif (numerik)\n",
        "df.describe()\n"
      ]
    },
    {
      "cell_type": "markdown",
      "metadata": {},
      "source": [
        "## Langkah 3 — Inspeksi Visual\n",
        "### Histogram — Distribusi Age & Fare"
      ]
    },
    {
      "cell_type": "code",
      "metadata": {},
      "execution_count": null,
      "outputs": [],
      "source": [
        "\n",
        "# Histogram untuk Age\n",
        "plt.figure()\n",
        "plt.hist(df['Age'].dropna(), bins=30)\n",
        "plt.title('Distribusi Age')\n",
        "plt.xlabel('Age'); plt.ylabel('Frekuensi')\n",
        "plt.show()\n",
        "\n",
        "# Histogram untuk Fare\n",
        "plt.figure()\n",
        "plt.hist(df['Fare'].dropna(), bins=30)\n",
        "plt.title('Distribusi Fare')\n",
        "plt.xlabel('Fare'); plt.ylabel('Frekuensi')\n",
        "plt.show()\n"
      ]
    },
    {
      "cell_type": "markdown",
      "metadata": {},
      "source": [
        "### Boxplot — Outlier pada Fare"
      ]
    },
    {
      "cell_type": "code",
      "metadata": {},
      "execution_count": null,
      "outputs": [],
      "source": [
        "\n",
        "plt.figure()\n",
        "plt.boxplot(df['Fare'].dropna(), vert=True)\n",
        "plt.title('Boxplot Fare')\n",
        "plt.ylabel('Fare')\n",
        "plt.show()\n"
      ]
    },
    {
      "cell_type": "markdown",
      "metadata": {},
      "source": [
        "### Komposisi Variabel Kualitatif — Bar Chart"
      ]
    },
    {
      "cell_type": "code",
      "metadata": {},
      "execution_count": null,
      "outputs": [],
      "source": [
        "\n",
        "# Daftar kolom kategorikal untuk dicek\n",
        "cat_cols = ['Survived', 'Pclass', 'Sex', 'Embarked']\n",
        "\n",
        "for col in cat_cols:\n",
        "    counts = df[col].fillna('NaN').value_counts(dropna=False)\n",
        "    plt.figure()\n",
        "    plt.bar(counts.index.astype(str), counts.values)\n",
        "    plt.title(f'Distribusi {col}')\n",
        "    plt.xlabel(col); plt.ylabel('Jumlah')\n",
        "    plt.tight_layout()\n",
        "    plt.show()\n"
      ]
    },
    {
      "cell_type": "markdown",
      "metadata": {},
      "source": [
        "### Korelasi — Heatmap (numerik, hanya matplotlib)"
      ]
    },
    {
      "cell_type": "code",
      "metadata": {},
      "execution_count": null,
      "outputs": [],
      "source": [
        "\n",
        "# Ambil kolom numerik saja\n",
        "num_only = df.select_dtypes(include=[np.number])\n",
        "\n",
        "# Korelasi\n",
        "corr = num_only.corr(numeric_only=True)\n",
        "\n",
        "# Heatmap dengan matplotlib (tanpa seaborn)\n",
        "plt.figure(figsize=(8, 6))\n",
        "im = plt.imshow(corr, vmin=-1, vmax=1)\n",
        "plt.colorbar(im, fraction=0.046, pad=0.04)\n",
        "plt.title('Heatmap Korelasi (numerik)')\n",
        "\n",
        "# Ticks dan label\n",
        "plt.xticks(range(len(corr.columns)), corr.columns, rotation=45, ha='right')\n",
        "plt.yticks(range(len(corr.index)), corr.index)\n",
        "\n",
        "# Tambahkan anotasi nilai korelasi\n",
        "for i in range(len(corr.index)):\n",
        "    for j in range(len(corr.columns)):\n",
        "        val = corr.iloc[i, j]\n",
        "        plt.text(j, i, f\"{val:.2f}\", ha='center', va='center')\n",
        "\n",
        "plt.tight_layout()\n",
        "plt.show()\n"
      ]
    },
    {
      "cell_type": "code",
      "metadata": {},
      "execution_count": null,
      "outputs": [],
      "source": [
        "\n",
        "# Urutan korelasi variabel lain terhadap 'Survived' (jika ada)\n",
        "if 'Survived' in corr.columns:\n",
        "    corr['Survived'].sort_values(ascending=False)\n",
        "else:\n",
        "    print(\"Kolom 'Survived' tidak ditemukan di korelasi numerik.\")\n"
      ]
    },
    {
      "cell_type": "markdown",
      "metadata": {},
      "source": [
        "### Scatter Plot — Age vs Fare"
      ]
    },
    {
      "cell_type": "code",
      "metadata": {},
      "execution_count": null,
      "outputs": [],
      "source": [
        "\n",
        "plt.figure()\n",
        "plt.scatter(df['Age'], df['Fare'], alpha=0.7)\n",
        "plt.xlabel('Age'); plt.ylabel('Fare')\n",
        "plt.title('Scatter Age vs Fare')\n",
        "plt.show()\n"
      ]
    }
  ]
}