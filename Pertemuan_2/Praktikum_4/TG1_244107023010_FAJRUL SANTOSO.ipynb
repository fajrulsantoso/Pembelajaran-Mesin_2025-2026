{
 "cells": [
  {
   "cell_type": "code",
   "execution_count": null,
   "id": "380a5978",
   "metadata": {},
   "outputs": [],
   "source": [
    "pip install -q opencv-python matplotlib"
   ]
  }
 ],
 "metadata": {
  "language_info": {
   "name": "python"
  }
 },
 "nbformat": 4,
 "nbformat_minor": 5
}
