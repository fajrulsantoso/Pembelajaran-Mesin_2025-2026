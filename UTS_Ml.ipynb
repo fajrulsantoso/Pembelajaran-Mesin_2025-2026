{
  "nbformat": 4,
  "nbformat_minor": 0,
  "metadata": {
    "colab": {
      "provenance": [],
      "mount_file_id": "1W-XASLmQ9cIUJF5uPcq3-98HseHO-6Ac",
      "authorship_tag": "ABX9TyMpCP3wQHFfojiIz8iPAYsb",
      "include_colab_link": true
    },
    "kernelspec": {
      "name": "python3",
      "display_name": "Python 3"
    },
    "language_info": {
      "name": "python"
    }
  },
  "cells": [
    {
      "cell_type": "markdown",
      "metadata": {
        "id": "view-in-github",
        "colab_type": "text"
      },
      "source": [
        "<a href=\"https://colab.research.google.com/github/fajrulsantoso/Pembelajaran-Mesin_2025-2026/blob/main/UTS_Ml.ipynb\" target=\"_parent\"><img src=\"https://colab.research.google.com/assets/colab-badge.svg\" alt=\"Open In Colab\"/></a>"
      ]
    },
    {
      "cell_type": "markdown",
      "source": [
        "## FAJRUL SANTOSO  ## TI_3H ABSEN_11 PRODI TEKNIK INFORMATIKA"
      ],
      "metadata": {
        "id": "L8XUjgsmntx1"
      }
    },
    {
      "cell_type": "markdown",
      "source": [
        "## Clustering dan Approximate Nearest Neighbor (ANN)"
      ],
      "metadata": {
        "id": "ZvsGYPZJnnun"
      }
    },
    {
      "cell_type": "markdown",
      "source": [
        "## Heart Disease Dataset (UCI)"
      ],
      "metadata": {
        "id": "winj_zuUp_qe"
      }
    },
    {
      "cell_type": "markdown",
      "source": [
        "## Import & Persiapan Library"
      ],
      "metadata": {
        "id": "mKRO01plqf_L"
      }
    },
    {
      "cell_type": "code",
      "source": [
        "!pip install annoy\n"
      ],
      "metadata": {
        "colab": {
          "base_uri": "https://localhost:8080/"
        },
        "id": "nzvEI1h8qc_D",
        "outputId": "3c9f3425-97c2-4845-e457-116f6880411a"
      },
      "execution_count": 3,
      "outputs": [
        {
          "output_type": "stream",
          "name": "stdout",
          "text": [
            "Requirement already satisfied: annoy in /usr/local/lib/python3.12/dist-packages (1.17.3)\n"
          ]
        }
      ]
    },
    {
      "cell_type": "code",
      "source": [
        "import pandas as pd\n",
        "import numpy as np\n",
        "from sklearn.preprocessing import StandardScaler\n",
        "from sklearn.cluster import KMeans, DBSCAN\n",
        "from sklearn.decomposition import PCA\n",
        "from sklearn.metrics import silhouette_score, davies_bouldin_score\n",
        "from annoy import AnnoyIndex\n",
        "import matplotlib.pyplot as plt\n",
        "import seaborn as sns\n"
      ],
      "metadata": {
        "id": "sSTMHRckoDch"
      },
      "execution_count": 4,
      "outputs": []
    },
    {
      "cell_type": "markdown",
      "source": [
        "## 2. Load Dataset"
      ],
      "metadata": {
        "id": "HB0-UDotrS2J"
      }
    },
    {
      "cell_type": "code",
      "source": [
        "from google.colab import drive\n",
        "drive.mount('/content/drive')\n"
      ],
      "metadata": {
        "colab": {
          "base_uri": "https://localhost:8080/"
        },
        "id": "qo9RmFEprPoe",
        "outputId": "67089478-b3ed-4925-f60e-db83a23387be"
      },
      "execution_count": 5,
      "outputs": [
        {
          "output_type": "stream",
          "name": "stdout",
          "text": [
            "Mounted at /content/drive\n"
          ]
        }
      ]
    },
    {
      "cell_type": "markdown",
      "source": [],
      "metadata": {
        "id": "6JUOJtnCse3-"
      }
    },
    {
      "cell_type": "code",
      "source": [
        "import pandas as pd\n",
        "\n",
        "# Path menuju file heart.csv\n",
        "path = '/content/drive/MyDrive/ML/heart.csv'\n",
        "\n",
        "# Load dataset\n",
        "df = pd.read_csv(path)\n",
        "\n",
        "# Tampilkan 5 baris pertama\n",
        "df.head()\n",
        "\n",
        "# Tampilkan informasi dasar dataset\n",
        "print(\"Ukuran dataset:\", df.shape)\n",
        "display(df.head())\n",
        "df.info()"
      ],
      "metadata": {
        "colab": {
          "base_uri": "https://localhost:8080/",
          "height": 588
        },
        "id": "zZyXlKVdtDIx",
        "outputId": "38c2b432-d5d7-4b13-81b3-1d00bc34c56f"
      },
      "execution_count": 10,
      "outputs": [
        {
          "output_type": "stream",
          "name": "stdout",
          "text": [
            "Ukuran dataset: (1025, 14)\n"
          ]
        },
        {
          "output_type": "display_data",
          "data": {
            "text/plain": [
              "   age  sex  cp  trestbps  chol  fbs  restecg  thalach  exang  oldpeak  slope  \\\n",
              "0   52    1   0       125   212    0        1      168      0      1.0      2   \n",
              "1   53    1   0       140   203    1        0      155      1      3.1      0   \n",
              "2   70    1   0       145   174    0        1      125      1      2.6      0   \n",
              "3   61    1   0       148   203    0        1      161      0      0.0      2   \n",
              "4   62    0   0       138   294    1        1      106      0      1.9      1   \n",
              "\n",
              "   ca  thal  target  \n",
              "0   2     3       0  \n",
              "1   0     3       0  \n",
              "2   0     3       0  \n",
              "3   1     3       0  \n",
              "4   3     2       0  "
            ],
            "text/html": [
              "\n",
              "  <div id=\"df-b0c37474-01e5-451d-a7bd-af6db269d36c\" class=\"colab-df-container\">\n",
              "    <div>\n",
              "<style scoped>\n",
              "    .dataframe tbody tr th:only-of-type {\n",
              "        vertical-align: middle;\n",
              "    }\n",
              "\n",
              "    .dataframe tbody tr th {\n",
              "        vertical-align: top;\n",
              "    }\n",
              "\n",
              "    .dataframe thead th {\n",
              "        text-align: right;\n",
              "    }\n",
              "</style>\n",
              "<table border=\"1\" class=\"dataframe\">\n",
              "  <thead>\n",
              "    <tr style=\"text-align: right;\">\n",
              "      <th></th>\n",
              "      <th>age</th>\n",
              "      <th>sex</th>\n",
              "      <th>cp</th>\n",
              "      <th>trestbps</th>\n",
              "      <th>chol</th>\n",
              "      <th>fbs</th>\n",
              "      <th>restecg</th>\n",
              "      <th>thalach</th>\n",
              "      <th>exang</th>\n",
              "      <th>oldpeak</th>\n",
              "      <th>slope</th>\n",
              "      <th>ca</th>\n",
              "      <th>thal</th>\n",
              "      <th>target</th>\n",
              "    </tr>\n",
              "  </thead>\n",
              "  <tbody>\n",
              "    <tr>\n",
              "      <th>0</th>\n",
              "      <td>52</td>\n",
              "      <td>1</td>\n",
              "      <td>0</td>\n",
              "      <td>125</td>\n",
              "      <td>212</td>\n",
              "      <td>0</td>\n",
              "      <td>1</td>\n",
              "      <td>168</td>\n",
              "      <td>0</td>\n",
              "      <td>1.0</td>\n",
              "      <td>2</td>\n",
              "      <td>2</td>\n",
              "      <td>3</td>\n",
              "      <td>0</td>\n",
              "    </tr>\n",
              "    <tr>\n",
              "      <th>1</th>\n",
              "      <td>53</td>\n",
              "      <td>1</td>\n",
              "      <td>0</td>\n",
              "      <td>140</td>\n",
              "      <td>203</td>\n",
              "      <td>1</td>\n",
              "      <td>0</td>\n",
              "      <td>155</td>\n",
              "      <td>1</td>\n",
              "      <td>3.1</td>\n",
              "      <td>0</td>\n",
              "      <td>0</td>\n",
              "      <td>3</td>\n",
              "      <td>0</td>\n",
              "    </tr>\n",
              "    <tr>\n",
              "      <th>2</th>\n",
              "      <td>70</td>\n",
              "      <td>1</td>\n",
              "      <td>0</td>\n",
              "      <td>145</td>\n",
              "      <td>174</td>\n",
              "      <td>0</td>\n",
              "      <td>1</td>\n",
              "      <td>125</td>\n",
              "      <td>1</td>\n",
              "      <td>2.6</td>\n",
              "      <td>0</td>\n",
              "      <td>0</td>\n",
              "      <td>3</td>\n",
              "      <td>0</td>\n",
              "    </tr>\n",
              "    <tr>\n",
              "      <th>3</th>\n",
              "      <td>61</td>\n",
              "      <td>1</td>\n",
              "      <td>0</td>\n",
              "      <td>148</td>\n",
              "      <td>203</td>\n",
              "      <td>0</td>\n",
              "      <td>1</td>\n",
              "      <td>161</td>\n",
              "      <td>0</td>\n",
              "      <td>0.0</td>\n",
              "      <td>2</td>\n",
              "      <td>1</td>\n",
              "      <td>3</td>\n",
              "      <td>0</td>\n",
              "    </tr>\n",
              "    <tr>\n",
              "      <th>4</th>\n",
              "      <td>62</td>\n",
              "      <td>0</td>\n",
              "      <td>0</td>\n",
              "      <td>138</td>\n",
              "      <td>294</td>\n",
              "      <td>1</td>\n",
              "      <td>1</td>\n",
              "      <td>106</td>\n",
              "      <td>0</td>\n",
              "      <td>1.9</td>\n",
              "      <td>1</td>\n",
              "      <td>3</td>\n",
              "      <td>2</td>\n",
              "      <td>0</td>\n",
              "    </tr>\n",
              "  </tbody>\n",
              "</table>\n",
              "</div>\n",
              "    <div class=\"colab-df-buttons\">\n",
              "\n",
              "  <div class=\"colab-df-container\">\n",
              "    <button class=\"colab-df-convert\" onclick=\"convertToInteractive('df-b0c37474-01e5-451d-a7bd-af6db269d36c')\"\n",
              "            title=\"Convert this dataframe to an interactive table.\"\n",
              "            style=\"display:none;\">\n",
              "\n",
              "  <svg xmlns=\"http://www.w3.org/2000/svg\" height=\"24px\" viewBox=\"0 -960 960 960\">\n",
              "    <path d=\"M120-120v-720h720v720H120Zm60-500h600v-160H180v160Zm220 220h160v-160H400v160Zm0 220h160v-160H400v160ZM180-400h160v-160H180v160Zm440 0h160v-160H620v160ZM180-180h160v-160H180v160Zm440 0h160v-160H620v160Z\"/>\n",
              "  </svg>\n",
              "    </button>\n",
              "\n",
              "  <style>\n",
              "    .colab-df-container {\n",
              "      display:flex;\n",
              "      gap: 12px;\n",
              "    }\n",
              "\n",
              "    .colab-df-convert {\n",
              "      background-color: #E8F0FE;\n",
              "      border: none;\n",
              "      border-radius: 50%;\n",
              "      cursor: pointer;\n",
              "      display: none;\n",
              "      fill: #1967D2;\n",
              "      height: 32px;\n",
              "      padding: 0 0 0 0;\n",
              "      width: 32px;\n",
              "    }\n",
              "\n",
              "    .colab-df-convert:hover {\n",
              "      background-color: #E2EBFA;\n",
              "      box-shadow: 0px 1px 2px rgba(60, 64, 67, 0.3), 0px 1px 3px 1px rgba(60, 64, 67, 0.15);\n",
              "      fill: #174EA6;\n",
              "    }\n",
              "\n",
              "    .colab-df-buttons div {\n",
              "      margin-bottom: 4px;\n",
              "    }\n",
              "\n",
              "    [theme=dark] .colab-df-convert {\n",
              "      background-color: #3B4455;\n",
              "      fill: #D2E3FC;\n",
              "    }\n",
              "\n",
              "    [theme=dark] .colab-df-convert:hover {\n",
              "      background-color: #434B5C;\n",
              "      box-shadow: 0px 1px 3px 1px rgba(0, 0, 0, 0.15);\n",
              "      filter: drop-shadow(0px 1px 2px rgba(0, 0, 0, 0.3));\n",
              "      fill: #FFFFFF;\n",
              "    }\n",
              "  </style>\n",
              "\n",
              "    <script>\n",
              "      const buttonEl =\n",
              "        document.querySelector('#df-b0c37474-01e5-451d-a7bd-af6db269d36c button.colab-df-convert');\n",
              "      buttonEl.style.display =\n",
              "        google.colab.kernel.accessAllowed ? 'block' : 'none';\n",
              "\n",
              "      async function convertToInteractive(key) {\n",
              "        const element = document.querySelector('#df-b0c37474-01e5-451d-a7bd-af6db269d36c');\n",
              "        const dataTable =\n",
              "          await google.colab.kernel.invokeFunction('convertToInteractive',\n",
              "                                                    [key], {});\n",
              "        if (!dataTable) return;\n",
              "\n",
              "        const docLinkHtml = 'Like what you see? Visit the ' +\n",
              "          '<a target=\"_blank\" href=https://colab.research.google.com/notebooks/data_table.ipynb>data table notebook</a>'\n",
              "          + ' to learn more about interactive tables.';\n",
              "        element.innerHTML = '';\n",
              "        dataTable['output_type'] = 'display_data';\n",
              "        await google.colab.output.renderOutput(dataTable, element);\n",
              "        const docLink = document.createElement('div');\n",
              "        docLink.innerHTML = docLinkHtml;\n",
              "        element.appendChild(docLink);\n",
              "      }\n",
              "    </script>\n",
              "  </div>\n",
              "\n",
              "\n",
              "    <div id=\"df-7b9b7181-0b77-4039-9b0a-b5782cdcfefd\">\n",
              "      <button class=\"colab-df-quickchart\" onclick=\"quickchart('df-7b9b7181-0b77-4039-9b0a-b5782cdcfefd')\"\n",
              "                title=\"Suggest charts\"\n",
              "                style=\"display:none;\">\n",
              "\n",
              "<svg xmlns=\"http://www.w3.org/2000/svg\" height=\"24px\"viewBox=\"0 0 24 24\"\n",
              "     width=\"24px\">\n",
              "    <g>\n",
              "        <path d=\"M19 3H5c-1.1 0-2 .9-2 2v14c0 1.1.9 2 2 2h14c1.1 0 2-.9 2-2V5c0-1.1-.9-2-2-2zM9 17H7v-7h2v7zm4 0h-2V7h2v10zm4 0h-2v-4h2v4z\"/>\n",
              "    </g>\n",
              "</svg>\n",
              "      </button>\n",
              "\n",
              "<style>\n",
              "  .colab-df-quickchart {\n",
              "      --bg-color: #E8F0FE;\n",
              "      --fill-color: #1967D2;\n",
              "      --hover-bg-color: #E2EBFA;\n",
              "      --hover-fill-color: #174EA6;\n",
              "      --disabled-fill-color: #AAA;\n",
              "      --disabled-bg-color: #DDD;\n",
              "  }\n",
              "\n",
              "  [theme=dark] .colab-df-quickchart {\n",
              "      --bg-color: #3B4455;\n",
              "      --fill-color: #D2E3FC;\n",
              "      --hover-bg-color: #434B5C;\n",
              "      --hover-fill-color: #FFFFFF;\n",
              "      --disabled-bg-color: #3B4455;\n",
              "      --disabled-fill-color: #666;\n",
              "  }\n",
              "\n",
              "  .colab-df-quickchart {\n",
              "    background-color: var(--bg-color);\n",
              "    border: none;\n",
              "    border-radius: 50%;\n",
              "    cursor: pointer;\n",
              "    display: none;\n",
              "    fill: var(--fill-color);\n",
              "    height: 32px;\n",
              "    padding: 0;\n",
              "    width: 32px;\n",
              "  }\n",
              "\n",
              "  .colab-df-quickchart:hover {\n",
              "    background-color: var(--hover-bg-color);\n",
              "    box-shadow: 0 1px 2px rgba(60, 64, 67, 0.3), 0 1px 3px 1px rgba(60, 64, 67, 0.15);\n",
              "    fill: var(--button-hover-fill-color);\n",
              "  }\n",
              "\n",
              "  .colab-df-quickchart-complete:disabled,\n",
              "  .colab-df-quickchart-complete:disabled:hover {\n",
              "    background-color: var(--disabled-bg-color);\n",
              "    fill: var(--disabled-fill-color);\n",
              "    box-shadow: none;\n",
              "  }\n",
              "\n",
              "  .colab-df-spinner {\n",
              "    border: 2px solid var(--fill-color);\n",
              "    border-color: transparent;\n",
              "    border-bottom-color: var(--fill-color);\n",
              "    animation:\n",
              "      spin 1s steps(1) infinite;\n",
              "  }\n",
              "\n",
              "  @keyframes spin {\n",
              "    0% {\n",
              "      border-color: transparent;\n",
              "      border-bottom-color: var(--fill-color);\n",
              "      border-left-color: var(--fill-color);\n",
              "    }\n",
              "    20% {\n",
              "      border-color: transparent;\n",
              "      border-left-color: var(--fill-color);\n",
              "      border-top-color: var(--fill-color);\n",
              "    }\n",
              "    30% {\n",
              "      border-color: transparent;\n",
              "      border-left-color: var(--fill-color);\n",
              "      border-top-color: var(--fill-color);\n",
              "      border-right-color: var(--fill-color);\n",
              "    }\n",
              "    40% {\n",
              "      border-color: transparent;\n",
              "      border-right-color: var(--fill-color);\n",
              "      border-top-color: var(--fill-color);\n",
              "    }\n",
              "    60% {\n",
              "      border-color: transparent;\n",
              "      border-right-color: var(--fill-color);\n",
              "    }\n",
              "    80% {\n",
              "      border-color: transparent;\n",
              "      border-right-color: var(--fill-color);\n",
              "      border-bottom-color: var(--fill-color);\n",
              "    }\n",
              "    90% {\n",
              "      border-color: transparent;\n",
              "      border-bottom-color: var(--fill-color);\n",
              "    }\n",
              "  }\n",
              "</style>\n",
              "\n",
              "      <script>\n",
              "        async function quickchart(key) {\n",
              "          const quickchartButtonEl =\n",
              "            document.querySelector('#' + key + ' button');\n",
              "          quickchartButtonEl.disabled = true;  // To prevent multiple clicks.\n",
              "          quickchartButtonEl.classList.add('colab-df-spinner');\n",
              "          try {\n",
              "            const charts = await google.colab.kernel.invokeFunction(\n",
              "                'suggestCharts', [key], {});\n",
              "          } catch (error) {\n",
              "            console.error('Error during call to suggestCharts:', error);\n",
              "          }\n",
              "          quickchartButtonEl.classList.remove('colab-df-spinner');\n",
              "          quickchartButtonEl.classList.add('colab-df-quickchart-complete');\n",
              "        }\n",
              "        (() => {\n",
              "          let quickchartButtonEl =\n",
              "            document.querySelector('#df-7b9b7181-0b77-4039-9b0a-b5782cdcfefd button');\n",
              "          quickchartButtonEl.style.display =\n",
              "            google.colab.kernel.accessAllowed ? 'block' : 'none';\n",
              "        })();\n",
              "      </script>\n",
              "    </div>\n",
              "\n",
              "    </div>\n",
              "  </div>\n"
            ],
            "application/vnd.google.colaboratory.intrinsic+json": {
              "type": "dataframe",
              "summary": "{\n  \"name\": \"df\",\n  \"rows\": 5,\n  \"fields\": [\n    {\n      \"column\": \"age\",\n      \"properties\": {\n        \"dtype\": \"number\",\n        \"std\": 7,\n        \"min\": 52,\n        \"max\": 70,\n        \"num_unique_values\": 5,\n        \"samples\": [\n          53,\n          62,\n          70\n        ],\n        \"semantic_type\": \"\",\n        \"description\": \"\"\n      }\n    },\n    {\n      \"column\": \"sex\",\n      \"properties\": {\n        \"dtype\": \"number\",\n        \"std\": 0,\n        \"min\": 0,\n        \"max\": 1,\n        \"num_unique_values\": 2,\n        \"samples\": [\n          0,\n          1\n        ],\n        \"semantic_type\": \"\",\n        \"description\": \"\"\n      }\n    },\n    {\n      \"column\": \"cp\",\n      \"properties\": {\n        \"dtype\": \"number\",\n        \"std\": 0,\n        \"min\": 0,\n        \"max\": 0,\n        \"num_unique_values\": 1,\n        \"samples\": [\n          0\n        ],\n        \"semantic_type\": \"\",\n        \"description\": \"\"\n      }\n    },\n    {\n      \"column\": \"trestbps\",\n      \"properties\": {\n        \"dtype\": \"number\",\n        \"std\": 8,\n        \"min\": 125,\n        \"max\": 148,\n        \"num_unique_values\": 5,\n        \"samples\": [\n          140\n        ],\n        \"semantic_type\": \"\",\n        \"description\": \"\"\n      }\n    },\n    {\n      \"column\": \"chol\",\n      \"properties\": {\n        \"dtype\": \"number\",\n        \"std\": 45,\n        \"min\": 174,\n        \"max\": 294,\n        \"num_unique_values\": 4,\n        \"samples\": [\n          203\n        ],\n        \"semantic_type\": \"\",\n        \"description\": \"\"\n      }\n    },\n    {\n      \"column\": \"fbs\",\n      \"properties\": {\n        \"dtype\": \"number\",\n        \"std\": 0,\n        \"min\": 0,\n        \"max\": 1,\n        \"num_unique_values\": 2,\n        \"samples\": [\n          1\n        ],\n        \"semantic_type\": \"\",\n        \"description\": \"\"\n      }\n    },\n    {\n      \"column\": \"restecg\",\n      \"properties\": {\n        \"dtype\": \"number\",\n        \"std\": 0,\n        \"min\": 0,\n        \"max\": 1,\n        \"num_unique_values\": 2,\n        \"samples\": [\n          0\n        ],\n        \"semantic_type\": \"\",\n        \"description\": \"\"\n      }\n    },\n    {\n      \"column\": \"thalach\",\n      \"properties\": {\n        \"dtype\": \"number\",\n        \"std\": 26,\n        \"min\": 106,\n        \"max\": 168,\n        \"num_unique_values\": 5,\n        \"samples\": [\n          155\n        ],\n        \"semantic_type\": \"\",\n        \"description\": \"\"\n      }\n    },\n    {\n      \"column\": \"exang\",\n      \"properties\": {\n        \"dtype\": \"number\",\n        \"std\": 0,\n        \"min\": 0,\n        \"max\": 1,\n        \"num_unique_values\": 2,\n        \"samples\": [\n          1\n        ],\n        \"semantic_type\": \"\",\n        \"description\": \"\"\n      }\n    },\n    {\n      \"column\": \"oldpeak\",\n      \"properties\": {\n        \"dtype\": \"number\",\n        \"std\": 1.243784547258889,\n        \"min\": 0.0,\n        \"max\": 3.1,\n        \"num_unique_values\": 5,\n        \"samples\": [\n          3.1\n        ],\n        \"semantic_type\": \"\",\n        \"description\": \"\"\n      }\n    },\n    {\n      \"column\": \"slope\",\n      \"properties\": {\n        \"dtype\": \"number\",\n        \"std\": 1,\n        \"min\": 0,\n        \"max\": 2,\n        \"num_unique_values\": 3,\n        \"samples\": [\n          2\n        ],\n        \"semantic_type\": \"\",\n        \"description\": \"\"\n      }\n    },\n    {\n      \"column\": \"ca\",\n      \"properties\": {\n        \"dtype\": \"number\",\n        \"std\": 1,\n        \"min\": 0,\n        \"max\": 3,\n        \"num_unique_values\": 4,\n        \"samples\": [\n          0\n        ],\n        \"semantic_type\": \"\",\n        \"description\": \"\"\n      }\n    },\n    {\n      \"column\": \"thal\",\n      \"properties\": {\n        \"dtype\": \"number\",\n        \"std\": 0,\n        \"min\": 2,\n        \"max\": 3,\n        \"num_unique_values\": 2,\n        \"samples\": [\n          2\n        ],\n        \"semantic_type\": \"\",\n        \"description\": \"\"\n      }\n    },\n    {\n      \"column\": \"target\",\n      \"properties\": {\n        \"dtype\": \"number\",\n        \"std\": 0,\n        \"min\": 0,\n        \"max\": 0,\n        \"num_unique_values\": 1,\n        \"samples\": [\n          0\n        ],\n        \"semantic_type\": \"\",\n        \"description\": \"\"\n      }\n    }\n  ]\n}"
            }
          },
          "metadata": {}
        },
        {
          "output_type": "stream",
          "name": "stdout",
          "text": [
            "<class 'pandas.core.frame.DataFrame'>\n",
            "RangeIndex: 1025 entries, 0 to 1024\n",
            "Data columns (total 14 columns):\n",
            " #   Column    Non-Null Count  Dtype  \n",
            "---  ------    --------------  -----  \n",
            " 0   age       1025 non-null   int64  \n",
            " 1   sex       1025 non-null   int64  \n",
            " 2   cp        1025 non-null   int64  \n",
            " 3   trestbps  1025 non-null   int64  \n",
            " 4   chol      1025 non-null   int64  \n",
            " 5   fbs       1025 non-null   int64  \n",
            " 6   restecg   1025 non-null   int64  \n",
            " 7   thalach   1025 non-null   int64  \n",
            " 8   exang     1025 non-null   int64  \n",
            " 9   oldpeak   1025 non-null   float64\n",
            " 10  slope     1025 non-null   int64  \n",
            " 11  ca        1025 non-null   int64  \n",
            " 12  thal      1025 non-null   int64  \n",
            " 13  target    1025 non-null   int64  \n",
            "dtypes: float64(1), int64(13)\n",
            "memory usage: 112.2 KB\n"
          ]
        }
      ]
    },
    {
      "cell_type": "markdown",
      "source": [
        "# Penjelasan Singkat Dataset\n",
        "\n",
        "\"\"\"\n",
        "Dataset ini berisi data medis pasien terkait penyakit jantung dengan total\n",
        "1.025 sampel dan 14 fitur. Setiap baris merepresentasikan satu pasien dengan\n",
        "berbagai atribut kesehatan seperti usia, jenis kelamin, tekanan darah,\n",
        "kolesterol, detak jantung, dan hasil pemeriksaan jantung lainnya.\n",
        "\n",
        "Sebagian besar fitur bertipe numerik (int64 dan float64), terdiri dari\n",
        "13 variabel input dan 1 variabel target (target) yang menunjukkan\n",
        "ada atau tidaknya penyakit jantung (1 = ada penyakit, 0 = tidak ada).\n",
        "\n",
        "Secara keseluruhan, dataset ini digunakan untuk menganalisis dan\n",
        "mengelompokkan pasien berdasarkan kesamaan kondisi medis,\n",
        "sehingga dapat membantu dalam memahami pola dan faktor risiko\n",
        "penyakit jantung.\n",
        "\"\"\"\n"
      ],
      "metadata": {
        "id": "vIjSPSmytJtm"
      }
    },
    {
      "cell_type": "markdown",
      "source": [
        "# 3. Data Preprocessing"
      ],
      "metadata": {
        "id": "8p5hf-hJtkeu"
      }
    },
    {
      "cell_type": "code",
      "source": [
        "\n",
        "print(\"Jumlah Missing Values:\")\n",
        "print(df.isnull().sum())\n",
        "df = df.fillna(df.mean())\n",
        "df['CholAge'] = df['chol'] * df['age']\n",
        "num_df = df.select_dtypes(include=['float64', 'int64'])\n",
        "scaler = StandardScaler()\n",
        "X_scaled = scaler.fit_transform(num_df)\n",
        "\n",
        "print(\"\\n✅ Data berhasil diproses dan dinormalisasi.\")\n",
        "print(\"Jumlah fitur setelah penambahan:\", num_df.shape[1])\n"
      ],
      "metadata": {
        "colab": {
          "base_uri": "https://localhost:8080/"
        },
        "id": "PVrop0g4tEWK",
        "outputId": "e9bf598c-19a6-4722-e0fb-bfc4b8a7116b"
      },
      "execution_count": 11,
      "outputs": [
        {
          "output_type": "stream",
          "name": "stdout",
          "text": [
            "Jumlah Missing Values:\n",
            "age         0\n",
            "sex         0\n",
            "cp          0\n",
            "trestbps    0\n",
            "chol        0\n",
            "fbs         0\n",
            "restecg     0\n",
            "thalach     0\n",
            "exang       0\n",
            "oldpeak     0\n",
            "slope       0\n",
            "ca          0\n",
            "thal        0\n",
            "target      0\n",
            "dtype: int64\n",
            "\n",
            "✅ Data berhasil diproses dan dinormalisasi.\n",
            "Jumlah fitur setelah penambahan: 15\n"
          ]
        }
      ]
    },
    {
      "cell_type": "markdown",
      "source": [
        "# Penjelasan Tahap Data Preprocessing\n",
        "\n",
        "\"\"\"\n",
        "Langkah ini bertujuan untuk menyiapkan data sebelum digunakan dalam proses analisis atau pemodelan.\n",
        "\n",
        "Beberapa langkah utama yang dilakukan:\n",
        "1. Menangani nilai yang hilang (missing value) dengan menggantinya menggunakan nilai rata-rata (mean).\n",
        "2. Membuat fitur baru bernama 'CholAge', yaitu hasil perkalian antara kadar kolesterol (chol) dan usia (age),\n",
        "   agar model dapat mengenali pengaruh kombinasi kedua faktor tersebut.\n",
        "3. Melakukan normalisasi (standarisasi) menggunakan StandardScaler,\n",
        "   sehingga setiap fitur memiliki skala yang seimbang dan tidak ada yang mendominasi.\n",
        "\n",
        "Hasilnya, data menjadi bersih, lengkap, serta siap digunakan untuk tahap pemodelan berikutnya.\n",
        "\"\"\"\n"
      ],
      "metadata": {
        "id": "h1N-Y3oqunVq"
      }
    },
    {
      "cell_type": "markdown",
      "source": [
        "## 4. Clustering dengan KMeans & DBSCAN"
      ],
      "metadata": {
        "id": "0qsC_jrNutyP"
      }
    },
    {
      "cell_type": "code",
      "source": [
        "\n",
        "kmeans = KMeans(n_clusters=3, random_state=42)\n",
        "labels_kmeans = kmeans.fit_predict(X_scaled)\n",
        "dbscan = DBSCAN(eps=1.5, min_samples=5)\n",
        "labels_dbscan = dbscan.fit_predict(X_scaled)\n",
        "sil_kmeans = silhouette_score(X_scaled, labels_kmeans)\n",
        "dbi_kmeans = davies_bouldin_score(X_scaled, labels_kmeans)\n",
        "sil_dbscan = silhouette_score(X_scaled, labels_dbscan)\n",
        "dbi_dbscan = davies_bouldin_score(X_scaled, labels_dbscan)\n",
        "\n",
        "print(\"=== Evaluasi Clustering ===\")\n",
        "print(f\"KMeans  → Silhouette: {sil_kmeans:.4f} | Davies–Bouldin: {dbi_kmeans:.4f}\")\n",
        "print(f\"DBSCAN  → Silhouette: {sil_dbscan:.4f} | Davies–Bouldin: {dbi_dbscan:.4f}\")\n"
      ],
      "metadata": {
        "colab": {
          "base_uri": "https://localhost:8080/"
        },
        "id": "C6jrw7wBuxo4",
        "outputId": "75e301a3-1d57-459c-9063-f66f623b2282"
      },
      "execution_count": 12,
      "outputs": [
        {
          "output_type": "stream",
          "name": "stdout",
          "text": [
            "=== Evaluasi Clustering ===\n",
            "KMeans  → Silhouette: 0.1468 | Davies–Bouldin: 2.2231\n",
            "DBSCAN  → Silhouette: -0.1957 | Davies–Bouldin: 1.3457\n"
          ]
        }
      ]
    },
    {
      "cell_type": "markdown",
      "source": [
        "# Penjelasan Tahap Evaluasi Clustering\n",
        "\n",
        "\"\"\"\n",
        "Pada tahap ini dilakukan evaluasi terhadap hasil clustering menggunakan dua algoritma, yaitu K-Means dan DBSCAN.\n",
        "Evaluasi dilakukan dengan dua metrik utama:\n",
        "\n",
        "1. Silhouette Score → Mengukur seberapa baik suatu data berada di dalam klusternya sendiri dibandingkan dengan kluster lain.\n",
        "   Nilai berkisar antara -1 hingga 1, dan semakin tinggi nilainya maka semakin baik pemisahan antar kluster.\n",
        "\n",
        "2. Davies–Bouldin Index (DBI) → Mengukur seberapa mirip antar kluster.\n",
        "   Nilai yang lebih rendah menunjukkan hasil klustering yang lebih baik.\n",
        "\n",
        "Hasil evaluasi menunjukkan:\n",
        "- KMeans  → Silhouette: 0.1468 | DBI: 2.2231\n",
        "- DBSCAN  → Silhouette: -0.1957 | DBI: 1.3457\n",
        "\n",
        "Interpretasi:\n",
        "Nilai Silhouette KMeans lebih tinggi, namun DBI DBSCAN lebih rendah.\n",
        "Artinya, KMeans membentuk kluster yang lebih terpisah dengan baik,\n",
        "sedangkan DBSCAN menghasilkan kluster yang lebih padat namun cenderung tumpang tindih.\n",
        "Secara keseluruhan, KMeans memberikan struktur kluster yang lebih rapi pada dataset ini.\n",
        "\"\"\"\n"
      ],
      "metadata": {
        "id": "9ig4tTIpv9nS"
      }
    },
    {
      "cell_type": "markdown",
      "source": [
        "## 5. Visualisasi Hasil Clustering"
      ],
      "metadata": {
        "id": "tj76AeCGwHYS"
      }
    },
    {
      "cell_type": "code",
      "source": [
        "\n",
        "pca = PCA(n_components=2)\n",
        "X_pca = pca.fit_transform(X_scaled)\n",
        "\n",
        "plt.figure(figsize=(6,5))\n",
        "plt.scatter(X_pca[:,0], X_pca[:,1], c=labels_kmeans, cmap='viridis')\n",
        "plt.title(\"KMeans Clustering Visualization (PCA)\")\n",
        "plt.xlabel(\"PCA 1\")\n",
        "plt.ylabel(\"PCA 2\")\n",
        "plt.show()\n",
        "\n",
        "plt.figure(figsize=(6,5))\n",
        "plt.scatter(X_pca[:,0], X_pca[:,1], c=labels_dbscan, cmap='coolwarm')\n",
        "plt.title(\"DBSCAN Clustering Visualization (PCA)\")\n",
        "plt.xlabel(\"PCA 1\")\n",
        "plt.ylabel(\"PCA 2\")\n",
        "plt.show()"
      ],
      "metadata": {
        "colab": {
          "base_uri": "https://localhost:8080/",
          "height": 957
        },
        "id": "JKGYwOsFwJ4I",
        "outputId": "0f9fa98b-3cc0-4ae0-9bc9-3e72d626e1eb"
      },
      "execution_count": 13,
      "outputs": [
        {
          "output_type": "display_data",
          "data": {
            "text/plain": [
              "<Figure size 600x500 with 1 Axes>"
            ],
            "image/png": "[encoded data removed]"
          },
          "metadata": {}
        },
        {
          "output_type": "display_data",
          "data": {
            "text/plain": [
              "<Figure size 600x500 with 1 Axes>"
            ],
            "image/png": "[encoded data removed]"
          },
          "metadata": {}
        }
      ]
    },
    {
      "cell_type": "markdown",
      "source": [
        "# Penjelasan Tahap Visualisasi Hasil Clustering\n",
        "\n",
        "\"\"\"\n",
        "Pada tahap ini dilakukan visualisasi hasil clustering menggunakan metode PCA (Principal Component Analysis)\n",
        "untuk mereduksi dimensi data dari banyak fitur menjadi dua dimensi (2D).\n",
        "Hal ini memudahkan dalam melihat pola pembagian cluster secara visual.\n",
        "\n",
        "Setiap titik pada grafik merepresentasikan satu data pasien,\n",
        "sementara warna yang berbeda menunjukkan hasil pembagian cluster dari masing-masing algoritma.\n",
        "\n",
        "- Grafik pertama menampilkan hasil clustering menggunakan K-Means.\n",
        "- Grafik kedua menampilkan hasil clustering menggunakan DBSCAN.\n",
        "\n",
        "Dari visualisasi ini dapat diamati perbedaan pola pembentukan cluster antara kedua algoritma.\n",
        "K-Means cenderung membentuk cluster yang lebih teratur dan berbentuk bulat,\n",
        "sedangkan DBSCAN mampu mengenali area dengan kepadatan data yang berbeda.\n",
        "\"\"\"\n"
      ],
      "metadata": {
        "id": "eRoyd6GGwZl9"
      }
    },
    {
      "cell_type": "markdown",
      "source": [
        "# 6. Approximate Nearest Neighbor (ANN) dengan Annoy"
      ],
      "metadata": {
        "id": "5VqPV5hTwiO-"
      }
    },
    {
      "cell_type": "code",
      "source": [
        "\n",
        "\n",
        "dim = X_scaled.shape[1]\n",
        "ann = AnnoyIndex(dim, 'euclidean')\n",
        "\n",
        "for i, v in enumerate(X_scaled):\n",
        "    ann.add_item(i, v)\n",
        "ann.build(10)\n",
        "\n",
        "query_points = [10, 42, 73]\n",
        "\n",
        "for q in query_points:\n",
        "    neighbors, distances = ann.get_nns_by_item(q, 5, include_distances=True)\n",
        "    print(f\"\\nQuery Point Index: {q}\")\n",
        "    print(\"Neighbor Index | Distance | Cluster (KMeans)\")\n",
        "    for n, d in zip(neighbors, distances):\n",
        "        print(f\"{n:<15} | {d:<8.4f} | {labels_kmeans[n]}\")\n"
      ],
      "metadata": {
        "colab": {
          "base_uri": "https://localhost:8080/"
        },
        "id": "o7lMckcOwjIv",
        "outputId": "2c36e7e0-56dc-4006-9b3b-981a9336190e"
      },
      "execution_count": 14,
      "outputs": [
        {
          "output_type": "stream",
          "name": "stdout",
          "text": [
            "\n",
            "Query Point Index: 10\n",
            "Neighbor Index | Distance | Cluster (KMeans)\n",
            "10              | 0.0000   | 1\n",
            "401             | 0.0000   | 1\n",
            "500             | 0.0000   | 1\n",
            "648             | 0.0000   | 1\n",
            "472             | 2.1946   | 1\n",
            "\n",
            "Query Point Index: 42\n",
            "Neighbor Index | Distance | Cluster (KMeans)\n",
            "42              | 0.0000   | 0\n",
            "670             | 0.0000   | 0\n",
            "759             | 0.0000   | 0\n",
            "924             | 0.0000   | 0\n",
            "96              | 2.4744   | 0\n",
            "\n",
            "Query Point Index: 73\n",
            "Neighbor Index | Distance | Cluster (KMeans)\n",
            "73              | 0.0000   | 2\n",
            "318             | 0.0000   | 2\n",
            "520             | 0.0000   | 2\n",
            "556             | 0.0000   | 2\n",
            "739             | 1.9615   | 2\n"
          ]
        }
      ]
    },
    {
      "cell_type": "markdown",
      "source": [
        "# Penjelasan Tahap Analisis (Approximate Nearest Neighbor)\n",
        "\n",
        "\"\"\"\n",
        "Tahap ini menggunakan metode ANN (Approximate Nearest Neighbor) dengan algoritma Annoy\n",
        "untuk mencari data pasien yang memiliki kemiripan paling dekat berdasarkan jarak Euclidean.\n",
        "\n",
        "Setiap titik query akan dicari beberapa tetangga terdekatnya dari hasil clustering sebelumnya.\n",
        "Jika mayoritas tetangga berada pada cluster yang sama,\n",
        "maka dapat disimpulkan bahwa cluster tersebut bersifat stabil dan konsisten.\n",
        "\n",
        "Analisis ini membantu memverifikasi apakah pembentukan cluster sudah cukup kuat\n",
        "atau masih terdapat data yang tumpang tindih di antara cluster.\n",
        "\"\"\"\n"
      ],
      "metadata": {
        "id": "_bMocDYpw2ye"
      }
    },
    {
      "cell_type": "markdown",
      "source": [],
      "metadata": {
        "id": "LLhrqdBEw9ZB"
      }
    }
  ]
}